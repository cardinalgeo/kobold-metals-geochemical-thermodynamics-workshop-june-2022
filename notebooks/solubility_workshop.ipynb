{
 "cells": [
  {
   "cell_type": "markdown",
   "metadata": {},
   "source": [
    "Import all relevant packages, as well as local code"
   ]
  },
  {
   "cell_type": "code",
   "execution_count": 26,
   "metadata": {},
   "outputs": [],
   "source": [
    "import reaktoro as rkt\n",
    "import thermofun as fun\n",
    "import numpy as np\n",
    "from distinctipy import distinctipy\n",
    "import plotly.graph_objects as go\n"
   ]
  },
  {
   "cell_type": "code",
   "execution_count": 27,
   "metadata": {},
   "outputs": [],
   "source": [
    "def add_element_concentration_constraint(specs, element): \n",
    "    def get_element_concentration(props, element):\n",
    "        element_concentration = 1e6 * props.elementMassInPhase(element, \"AqueousPhase\") / props.phaseProps(\"AqueousPhase\").mass() # [ppm]\n",
    "\n",
    "        return element_concentration\n",
    "\n",
    "    idx_element_conc = specs.addInput(f\"{element} concentration\")  # add symbol for a new input condition to the equilibrium problem\n",
    "\n",
    "    element_conc_constraint = rkt.ConstraintEquation()\n",
    "    element_conc_constraint.id = f\"{element} concentration\"  # give some identification name to the constraint\n",
    "    element_conc_constraint.fn = lambda props, w: get_element_concentration(props, element) - w[idx_element_conc]  # the residual function \n",
    "\n",
    "    specs.addConstraint(element_conc_constraint)\n",
    "\n",
    "    return specs\n",
    "\n",
    "def add_salinity_constraint(specs): \n",
    "\n",
    "    def get_NaCl_concentration(props):\n",
    "        NaCl_concentration = 100 * (props.elementMassInPhase(\"Na\", \"AqueousPhase\") + props.elementMassInPhase(\"Cl\", \"AqueousPhase\")) / props.phaseProps(\"AqueousPhase\").mass() # [wt %]\n",
    "\n",
    "        return NaCl_concentration\n",
    "\n",
    "    idx_salinity = specs.addInput(\"salinity\")  # add symbol for a new input condition to the equilibrium problem\n",
    "\n",
    "    salinity_constraint = rkt.ConstraintEquation()\n",
    "    salinity_constraint.id = \"salinity\"  # give some identification name to the constraint\n",
    "    salinity_constraint.fn = lambda props, w: get_NaCl_concentration(props) - w[idx_salinity]  # the residual function \n",
    "\n",
    "    specs.addConstraint(salinity_constraint)\n",
    "\n",
    "    return specs\n",
    "\n",
    "\n",
    "class EquilibriumSpecs(rkt.EquilibriumSpecs): \n",
    "    def elementConcentration(self, element, units, titrant): \n",
    "        def get_element_concentration(props, element, units):\n",
    "            if units == \"ppm\": \n",
    "                concentration = 1e6 * props.elementMassInPhase(element, \"AqueousPhase\") / props.phaseProps(\"AqueousPhase\").mass() # [ppm]\n",
    "            elif units == \"molal\": \n",
    "                aq_props = rkt.AqueousProps(props)\n",
    "                concentration = aq_props.elementMolality(element) \n",
    "            return concentration\n",
    "\n",
    "        idx_element_conc = specs.addInput(f\"{element} concentration\")  # add symbol for a new input condition to the equilibrium problem\n",
    "\n",
    "        element_conc_constraint = rkt.ConstraintEquation()\n",
    "        element_conc_constraint.id = f\"{element} concentration\"  # give some identification name to the constraint\n",
    "        element_conc_constraint.fn = lambda props, w: get_element_concentration(props, element, units) - w[idx_element_conc]  # the residual function \n",
    "\n",
    "        self.addConstraint(element_conc_constraint)\n",
    "        self.openTo(titrant)\n",
    "    \n",
    "    def pH(self, titrant): \n",
    "        idx_pH = self.addInput(\"pH\")\n",
    "\n",
    "        pH_constraint = rkt.ConstraintEquation()\n",
    "        pH_constraint.id = \"pH\"\n",
    "        pH_constraint.fn = lambda props, w : w[idx_pH] - rkt.AqueousProps(props).pH()\n",
    "        self.addConstraint(pH_constraint)\n",
    "        self.openTo(titrant)\n",
    "\n",
    "    def electroneutrality(self, titrant): \n",
    "        self.charge()\n",
    "        self.openTo(titrant)\n",
    "\n",
    "\n",
    "class EquilibriumConditions(rkt.EquilibriumConditions): \n",
    "    def elementConcentration(self, element, amount): \n",
    "        self.set(f\"{element} concentration\", amount)\n",
    "    \n",
    "    def electroneutrality(self): \n",
    "        self.charge(0)"
   ]
  },
  {
   "cell_type": "markdown",
   "metadata": {},
   "source": [
    "Create a database object containing the thermodynamic data for each substance"
   ]
  },
  {
   "cell_type": "code",
   "execution_count": 28,
   "metadata": {},
   "outputs": [
    {
     "data": {
      "text/plain": [
       "thermofun.PyThermoFun.Database"
      ]
     },
     "execution_count": 28,
     "metadata": {},
     "output_type": "execute_result"
    }
   ],
   "source": [
    "# create ThermoFun database\n",
    "database = fun.Database(\"../data/mines19-thermofun.json\");\n",
    "\n",
    "# add Co aqueous species\n",
    "database.appendData(\"../data/Co_aq_species_thermo.json\");\n",
    "database.appendData(\"../data/Co-S_aq_species_thermo_Migdisov_etal_2011_OptimC.json\");\n",
    "database.appendData(\"../data/Co-Cl_aq_species_thermo_Liu_etal_2011.json\");\n",
    "# database.appendData(\"../data/Co-Cl_aq_species_thermo_Migdisov_etal_2011_OptimC.json\");\n",
    "\n",
    "# add Co minerals \n",
    "database.appendData(\"../data/Co_mineral_thermo.json\");\n",
    "\n",
    "# convert from ThermoFun to Reaktoro-compatible database\n",
    "db = rkt.ThermoFunDatabase(database)\n",
    "type(database)"
   ]
  },
  {
   "cell_type": "code",
   "execution_count": null,
   "metadata": {},
   "outputs": [],
   "source": []
  },
  {
   "cell_type": "markdown",
   "metadata": {},
   "source": [
    "## Create a chemical system for each metal-bearing fluid"
   ]
  },
  {
   "cell_type": "markdown",
   "metadata": {},
   "source": [
    "aqueous species common to each chemical system"
   ]
  },
  {
   "cell_type": "code",
   "execution_count": 9,
   "metadata": {},
   "outputs": [],
   "source": [
    "general_species = [\"H2O@\", \"H+\", \"OH-\", \n",
    "                    \"Na+\", \"NaOH@\", \"NaCl@\", \"HCl@\", \"Cl-\", \n",
    "                    \"H2S@\", \"HS-\", \"HSO4-\", \"SO4-2\", \n",
    "]"
   ]
  },
  {
   "cell_type": "markdown",
   "metadata": {},
   "source": [
    "aqueous species for each metal"
   ]
  },
  {
   "cell_type": "code",
   "execution_count": 10,
   "metadata": {},
   "outputs": [],
   "source": [
    "metals = [\"Co\", \"Cu\", \"Zn\", \"Pb\"]\n",
    "metal_species = dict.fromkeys(metals)\n",
    "\n",
    "metal_species[\"Co\"] = [\"Co+2\", \"Co+3\", \"CoCl+\", \"CoCl2@\", \"CoCl3-\", \"CoCl4-2\", \\\n",
    "                \"CoH2S+2\", \"CoHS+\", \"CoO2-2\", \"CoO@\", \"CoOH+\", \"CoOH+2\", \"HCoO2-\"\n",
    "]\n",
    "metal_species[\"Cu\"] = [\"Cu(HS)2-\", \"Cu(OH)2-\", \"Cu(OH)@\", \"Cu+\" ,\"Cu+2\", \"CuCl+\", \"CuCl2-\", \\\n",
    "                \"CuCl2@\", \"CuCl3-\", \"CuCl3-2\", \"CuCl4-2\", \"CuCl4-3\", \"CuCl@\", \"CuHS@\", \\\n",
    "                \"CuO2-2\", \"CuO2H-\", \"CuO@\", \"CuOH+\"\n",
    "]\n",
    "metal_species[\"Zn\"] = [\"Zn(HS)2(OH)-\", \"Zn(HS)2@\", \"Zn(HS)3-\", \"Zn(HS)4-2\", \"Zn+2\", \"ZnCl+\", \\\n",
    "                \"ZnCl2@\", \"ZnCl3-\", \"ZnO2-2\", \"ZnO2H-\", \"ZnO@\", \"ZnOH+\"\n",
    "]\n",
    "metal_species[\"Pb\"] = [\"Pb(HS)2@\", \"Pb(HS)3-\", \"Pb+2\", \"PbCl+\", \"PbCl2@\", \"PbCl3-\", \\\n",
    "            \"PbCl4-2\", \"PbF2@\", \"PbO2H-\", \"PbO@\", \"PbOH+\"\n",
    "]"
   ]
  },
  {
   "cell_type": "markdown",
   "metadata": {},
   "source": [
    "Create a dictionary to store the chemical system (i.e., the collection of relevant mineral, aqueous, and gaseous species) for each fluid"
   ]
  },
  {
   "cell_type": "code",
   "execution_count": 11,
   "metadata": {},
   "outputs": [],
   "source": [
    "systems = {}\n",
    "\n",
    "for metal in metals: \n",
    "    aqueous_phase = rkt.AqueousPhase(general_species + metal_species[metal])\n",
    "    aqueous_phase.setActivityModel(rkt.ActivityModelHKF())\n",
    "    phases = rkt.Phases(db)\n",
    "    phases.add(aqueous_phase)\n",
    "\n",
    "    systems[metal] = rkt.ChemicalSystem(phases)\n"
   ]
  },
  {
   "cell_type": "markdown",
   "metadata": {},
   "source": [
    "Set model parameters\n",
    "- temperature\n",
    "- pressure (assume saturated vapor pressure of water)\n",
    "- concentration of metal\n",
    "- concentration of ligands (i.e., Cl and S)"
   ]
  },
  {
   "cell_type": "code",
   "execution_count": 12,
   "metadata": {},
   "outputs": [],
   "source": [
    "temperature = 200 + 273.15                                     # [K]\n",
    "pressure = rkt.waterSaturationPressureWagnerPruss(temperature) # [Pa]\n",
    "metal_concentration = 0.01                                     # [molal]\n",
    "S_concentration = 0.01                                         # [molal]\n",
    "Cl_concentration = 0.5                                         # [molal]"
   ]
  },
  {
   "cell_type": "markdown",
   "metadata": {},
   "source": [
    "$f_{O_2}$ buffered by hematite-magnetite assemblage\n",
    "$$\n",
    " 2Fe_3O_4 + 0.5O_2 \\leftrightarrow 3Fe_2O_3\n",
    "$$"
   ]
  },
  {
   "cell_type": "code",
   "execution_count": 20,
   "metadata": {},
   "outputs": [],
   "source": [
    "def get_fO2(T, P, rxn): \n",
    "    lgK = rxn.props(T, P).lgK[0]\n",
    "    O2_coeff = rxn.equation().coefficients()[1]\n",
    "    fO2 = 10**((1/O2_coeff)*lgK)\n",
    "\n",
    "    return fO2\n",
    "\n",
    "rxn = db.reaction(\"2*Magnetite + 0.5*O2(g) = 3*Hematite\")\n",
    "fO2 = get_fO2(temperature, pressure, rxn) # [bar]"
   ]
  },
  {
   "cell_type": "markdown",
   "metadata": {},
   "source": [
    "Set info about metals looped through and how they're added. "
   ]
  },
  {
   "cell_type": "code",
   "execution_count": 21,
   "metadata": {},
   "outputs": [],
   "source": [
    "metal_titrants = [\"CoCl2@\", \"CuCl2@\", \"PbCl2@\", \"ZnCl2@\"]"
   ]
  },
  {
   "cell_type": "code",
   "execution_count": 22,
   "metadata": {},
   "outputs": [],
   "source": [
    "species_amounts = {}\n",
    "for metal in metals: \n",
    "    species_amounts[metal] = {}\n",
    "    for specie in metal_species[metal]: \n",
    "        species_amounts[metal][specie] = []"
   ]
  },
  {
   "cell_type": "markdown",
   "metadata": {},
   "source": [
    "For each metal, loop through a range of pH values and speciate the fluid"
   ]
  },
  {
   "cell_type": "code",
   "execution_count": 23,
   "metadata": {},
   "outputs": [
    {
     "name": "stdout",
     "output_type": "stream",
     "text": [
      "converged: True\n",
      "converged: True\n",
      "converged: True\n",
      "converged: True\n",
      "converged: True\n",
      "converged: True\n",
      "converged: True\n",
      "converged: True\n",
      "converged: True\n",
      "converged: True\n",
      "converged: True\n",
      "converged: True\n",
      "converged: True\n",
      "converged: True\n",
      "converged: True\n",
      "converged: True\n",
      "converged: True\n",
      "converged: True\n",
      "converged: True\n",
      "converged: True\n",
      "converged: True\n",
      "converged: True\n",
      "converged: True\n",
      "converged: True\n",
      "converged: True\n",
      "converged: True\n",
      "converged: True\n",
      "converged: True\n",
      "converged: True\n",
      "converged: True\n",
      "converged: True\n",
      "converged: True\n",
      "converged: True\n",
      "converged: True\n",
      "converged: True\n",
      "converged: True\n",
      "converged: True\n",
      "converged: True\n",
      "converged: True\n",
      "converged: True\n",
      "converged: True\n",
      "converged: True\n",
      "converged: True\n",
      "converged: True\n",
      "converged: True\n",
      "converged: True\n",
      "converged: True\n",
      "converged: True\n",
      "converged: True\n",
      "converged: True\n",
      "converged: True\n",
      "converged: True\n",
      "converged: True\n",
      "converged: True\n",
      "converged: True\n",
      "converged: True\n",
      "converged: True\n",
      "converged: True\n",
      "converged: True\n",
      "converged: True\n",
      "converged: True\n",
      "converged: True\n",
      "converged: True\n",
      "converged: True\n",
      "converged: True\n",
      "converged: True\n",
      "converged: True\n",
      "converged: True\n",
      "converged: True\n",
      "converged: True\n",
      "converged: True\n",
      "converged: True\n",
      "converged: True\n",
      "converged: True\n",
      "converged: True\n",
      "converged: True\n",
      "converged: True\n",
      "converged: True\n",
      "converged: True\n",
      "converged: True\n",
      "converged: True\n",
      "converged: True\n",
      "converged: True\n",
      "converged: True\n",
      "converged: False\n",
      "converged: True\n",
      "converged: True\n",
      "converged: True\n",
      "converged: True\n",
      "converged: True\n",
      "converged: True\n",
      "converged: True\n",
      "converged: True\n",
      "converged: True\n",
      "converged: True\n",
      "converged: True\n",
      "converged: True\n",
      "converged: True\n",
      "converged: True\n",
      "converged: True\n",
      "converged: True\n",
      "converged: True\n",
      "converged: True\n",
      "converged: True\n",
      "converged: True\n",
      "converged: True\n",
      "converged: True\n",
      "converged: False\n",
      "converged: False\n",
      "converged: True\n",
      "converged: True\n",
      "converged: True\n"
     ]
    }
   ],
   "source": [
    "for metal, metal_titrant in zip(metals, metal_titrants): \n",
    "    # get chemical system\n",
    "    system = systems[metal]\n",
    "\n",
    "    # create fluid and add water\n",
    "    fluid = rkt.ChemicalState(system)\n",
    "    fluid.add(\"H2O@\", 1, \"kg\")\n",
    "\n",
    "    # create the constraints for the equilibrium problem at hand\n",
    "    specs = EquilibriumSpecs(system)\n",
    "    specs.temperature()\n",
    "    specs.pressure()\n",
    "    specs.fugacity(\"O2(g)\")\n",
    "    specs.pH(\"HCl@\")\n",
    "    specs.elementConcentration(metal, \"molal\", metal_titrant)\n",
    "    specs.elementConcentration(\"S\", \"molal\", \"H2S@\")\n",
    "    specs.elementConcentration(\"Cl\", \"molal\", \"NaCl@\")\n",
    "    specs.electroneutrality(\"Cl-\")\n",
    "\n",
    "    # create an object to solve the equilibrum problem\n",
    "    solver = rkt.EquilibriumSolver(specs)\n",
    "\n",
    "    # loop through pH values\n",
    "    pH_values = np.linspace(2, 12, 28)\n",
    "    for pH in pH_values: \n",
    "        # set values for each constraint\n",
    "        conditions = EquilibriumConditions(specs)\n",
    "\n",
    "        conditions.temperature(temperature, \"K\")\n",
    "        conditions.pressure(pressure, \"Pa\")\n",
    "        conditions.set(\"pH\", pH)\n",
    "        conditions.fugacity(\"O2(g)\", fO2, \"bar\")\n",
    "        conditions.elementConcentration(metal, metal_concentration)\n",
    "        conditions.elementConcentration(\"S\", S_concentration)\n",
    "        conditions.elementConcentration(\"Cl\", Cl_concentration)\n",
    "        conditions.electroneutrality()\n",
    "\n",
    "\n",
    "        # compute equilibrium problem and determine if computation was successful\n",
    "        result = solver.solve(fluid, conditions)\n",
    "        outcome = result.optima.succeeded\n",
    "        print(f\"converged: {outcome}\")\n",
    "\n",
    "\n",
    "        # get relative amounts of each species\n",
    "        props = rkt.ChemicalProps(fluid)\n",
    "        aprops = rkt.AqueousProps(props)\n",
    "        for specie in species_amounts[metal].keys(): \n",
    "            specie_amount = float(aprops.speciesMolality(specie))\n",
    "            relative_specie_amount = specie_amount / metal_concentration\n",
    "            species_amounts[metal][specie].append(relative_specie_amount)"
   ]
  },
  {
   "cell_type": "markdown",
   "metadata": {},
   "source": [
    "Set plotting color for each species"
   ]
  },
  {
   "cell_type": "code",
   "execution_count": 24,
   "metadata": {},
   "outputs": [],
   "source": [
    "species_colors = dict.fromkeys(species_amounts.keys())\n",
    "\n",
    "for metal in metals: \n",
    "    species_colors[metal] = dict.fromkeys(species_amounts[metal].keys())\n",
    "    n = len(species_amounts[metal].keys())\n",
    "    colors = distinctipy.get_colors(n, rng=2514)\n",
    "    for color, specie in zip(colors, species_colors[metal].keys()): \n",
    "        species_colors[metal][specie] = \"rgb\" + str(tuple(color))"
   ]
  },
  {
   "cell_type": "markdown",
   "metadata": {},
   "source": [
    "Plot speciation for each metal! "
   ]
  },
  {
   "cell_type": "code",
   "execution_count": 25,
   "metadata": {},
   "outputs": [
    {
     "data": {
      "application/vnd.plotly.v1+json": {
       "config": {
        "plotlyServerURL": "https://plot.ly"
       },
       "data": [
        {
         "line": {
          "color": "rgb(0.0, 1.0, 0.0)"
         },
         "name": "Co+2",
         "type": "scatter",
         "x": [
          2,
          2.3703703703703702,
          2.7407407407407405,
          3.111111111111111,
          3.4814814814814814,
          3.8518518518518516,
          4.222222222222222,
          4.592592592592593,
          4.962962962962963,
          5.333333333333333,
          5.703703703703703,
          6.0740740740740735,
          6.444444444444445,
          6.814814814814815,
          7.185185185185185,
          7.555555555555555,
          7.925925925925926,
          8.296296296296296,
          8.666666666666666,
          9.037037037037036,
          9.407407407407407,
          9.777777777777779,
          10.148148148148147,
          10.518518518518517,
          10.88888888888889,
          11.25925925925926,
          11.62962962962963,
          12
         ],
         "y": [
          0.002895599737703248,
          0.0028988146816868498,
          0.0028996275654889227,
          0.0028986670880530928,
          0.002895207278509837,
          0.002886664261449036,
          0.002866911480929269,
          0.0028231038216648442,
          0.0027326699721182397,
          0.002570055615456225,
          0.002340821327417255,
          0.002129666729612409,
          0.0020776832406439127,
          0.002232691624677778,
          0.002460471933446382,
          0.0025145419657300046,
          0.001997894043969527,
          0.0009263834731823523,
          0.00023988566342210684,
          0.0000446137707933007,
          0.000006886597980204965,
          8.212632874037856e-7,
          6.463303588725034e-8,
          3.3663419709308913e-9,
          1.4150005360584228e-10,
          5.874799694229798e-12,
          2.730571449415857e-13,
          1.4645858977340425e-14
         ]
        },
        {
         "line": {
          "color": "rgb(1.0, 0.0, 1.0)"
         },
         "name": "Co+3",
         "type": "scatter",
         "x": [
          2,
          2.3703703703703702,
          2.7407407407407405,
          3.111111111111111,
          3.4814814814814814,
          3.8518518518518516,
          4.222222222222222,
          4.592592592592593,
          4.962962962962963,
          5.333333333333333,
          5.703703703703703,
          6.0740740740740735,
          6.444444444444445,
          6.814814814814815,
          7.185185185185185,
          7.555555555555555,
          7.925925925925926,
          8.296296296296296,
          8.666666666666666,
          9.037037037037036,
          9.407407407407407,
          9.777777777777779,
          10.148148148148147,
          10.518518518518517,
          10.88888888888889,
          11.25925925925926,
          11.62962962962963,
          12
         ],
         "y": [
          1.0000017782688105e-14,
          1.0000017783074208e-14,
          1.0000017783980057e-14,
          1.0000017786105185e-14,
          1.0000017791090114e-14,
          1.0000017802779949e-14,
          1.0000017830175312e-14,
          1.0000017894290676e-14,
          1.0000018043988165e-14,
          1.0000018392576667e-14,
          1.0000019205610232e-14,
          1.0000021132826307e-14,
          1.0000025906621602e-14,
          1.0000038763743679e-14,
          1.0000078241057042e-14,
          1.0000217011231264e-14,
          1.000067950485703e-14,
          1.0001650027385967e-14,
          1.0002870589239419e-14,
          1.0004724089710559e-14,
          1.0008736992528192e-14,
          1.0018125083924371e-14,
          1.0040749131152873e-14,
          1.0098436056215782e-14,
          1.0248305072028511e-14,
          1.0582869684483522e-14,
          1.1128541954999098e-14,
          1.1805756291682982e-14
         ]
        },
        {
         "line": {
          "color": "rgb(0.0, 0.5, 1.0)"
         },
         "name": "CoCl+",
         "type": "scatter",
         "x": [
          2,
          2.3703703703703702,
          2.7407407407407405,
          3.111111111111111,
          3.4814814814814814,
          3.8518518518518516,
          4.222222222222222,
          4.592592592592593,
          4.962962962962963,
          5.333333333333333,
          5.703703703703703,
          6.0740740740740735,
          6.444444444444445,
          6.814814814814815,
          7.185185185185185,
          7.555555555555555,
          7.925925925925926,
          8.296296296296296,
          8.666666666666666,
          9.037037037037036,
          9.407407407407407,
          9.777777777777779,
          10.148148148148147,
          10.518518518518517,
          10.88888888888889,
          11.25925925925926,
          11.62962962962963,
          12
         ],
         "y": [
          0.0018697612793652698,
          0.001871278926053029,
          0.0018715881340057472,
          0.0018709287870884135,
          0.0018688010921870874,
          0.0018636138582790336,
          0.0018516392380730847,
          0.0018250539093049127,
          0.0017699999385998961,
          0.0016703398427830739,
          0.0015279790500033383,
          0.0013929465701869325,
          0.0013517443522831443,
          0.0014349939017616056,
          0.001561715530750543,
          0.001585028018052169,
          0.0012659991284134644,
          0.0005976602366843329,
          0.00015618384971058502,
          0.000028716697172112637,
          0.000004269558248287526,
          4.6641353928709947e-7,
          3.037444712656992e-8,
          1.0698794082020465e-9,
          2.08938679948597e-11,
          2.357265142862136e-13,
          1.1128541954999098e-14,
          1.1805756291682982e-14
         ]
        },
        {
         "line": {
          "color": "rgb(1.0, 0.5, 0.0)"
         },
         "name": "CoCl2@",
         "type": "scatter",
         "x": [
          2,
          2.3703703703703702,
          2.7407407407407405,
          3.111111111111111,
          3.4814814814814814,
          3.8518518518518516,
          4.222222222222222,
          4.592592592592593,
          4.962962962962963,
          5.333333333333333,
          5.703703703703703,
          6.0740740740740735,
          6.444444444444445,
          6.814814814814815,
          7.185185185185185,
          7.555555555555555,
          7.925925925925926,
          8.296296296296296,
          8.666666666666666,
          9.037037037037036,
          9.407407407407407,
          9.777777777777779,
          10.148148148148147,
          10.518518518518517,
          10.88888888888889,
          11.25925925925926,
          11.62962962962963,
          12
         ],
         "y": [
          0.004498073083179756,
          0.00450039138518519,
          0.004500620527156878,
          0.00449894075455858,
          0.004494075571091776,
          0.004482381655426455,
          0.004455438082579843,
          0.004395564920099191,
          0.004271217745559432,
          0.004044774221129218,
          0.003717793625556054,
          0.0034016068646684832,
          0.003295936215950952,
          0.003473968949765105,
          0.0037500373294018304,
          0.003792675065374215,
          0.0030571547124856402,
          0.001477812404099779,
          0.0003923407673955389,
          0.00007204510125308184,
          0.000010547887896484188,
          0.0000011104079717792203,
          6.691015502335445e-8,
          2.029516955661767e-9,
          3.0874940398354325e-11,
          2.5291624268081054e-13,
          1.1128541954999098e-14,
          1.1805756291682982e-14
         ]
        },
        {
         "line": {
          "color": "rgb(0.5, 0.75, 0.5)"
         },
         "name": "CoCl3-",
         "type": "scatter",
         "x": [
          2,
          2.3703703703703702,
          2.7407407407407405,
          3.111111111111111,
          3.4814814814814814,
          3.8518518518518516,
          4.222222222222222,
          4.592592592592593,
          4.962962962962963,
          5.333333333333333,
          5.703703703703703,
          6.0740740740740735,
          6.444444444444445,
          6.814814814814815,
          7.185185185185185,
          7.555555555555555,
          7.925925925925926,
          8.296296296296296,
          8.666666666666666,
          9.037037037037036,
          9.407407407407407,
          9.777777777777779,
          10.148148148148147,
          10.518518518518517,
          10.88888888888889,
          11.25925925925926,
          11.62962962962963,
          12
         ],
         "y": [
          5.182612650261595e-10,
          5.183726184633453e-10,
          5.183389102553303e-10,
          5.181345022090749e-10,
          5.176037058703851e-10,
          5.163484877795235e-10,
          5.134631588074258e-10,
          5.070464791386157e-10,
          4.936839739948339e-10,
          4.692194411873243e-10,
          4.3359023955540596e-10,
          3.9879737810948845e-10,
          3.871276282326762e-10,
          4.0689330968083106e-10,
          4.372808585255669e-10,
          4.4202197149465206e-10,
          3.6094544687809823e-10,
          1.7971350464813494e-10,
          4.8792862152572964e-11,
          9.03285488261037e-12,
          1.3286429353318336e-12,
          1.4106389802808307e-13,
          1.0040749131152873e-14,
          1.0098436056215782e-14,
          1.0248305072028511e-14,
          1.0582869684483522e-14,
          1.1128541954999098e-14,
          1.1805756291682982e-14
         ]
        },
        {
         "line": {
          "color": "rgb(0.3985148503731565, 0.06871562412766008, 0.5698903026276297)"
         },
         "name": "CoCl4-2",
         "type": "scatter",
         "x": [
          2,
          2.3703703703703702,
          2.7407407407407405,
          3.111111111111111,
          3.4814814814814814,
          3.8518518518518516,
          4.222222222222222,
          4.592592592592593,
          4.962962962962963,
          5.333333333333333,
          5.703703703703703,
          6.0740740740740735,
          6.444444444444445,
          6.814814814814815,
          7.185185185185185,
          7.555555555555555,
          7.925925925925926,
          8.296296296296296,
          8.666666666666666,
          9.037037037037036,
          9.407407407407407,
          9.777777777777779,
          10.148148148148147,
          10.518518518518517,
          10.88888888888889,
          11.25925925925926,
          11.62962962962963,
          12
         ],
         "y": [
          0.9906764119834214,
          0.9905938276997343,
          0.9904154061124926,
          0.9900040241729545,
          0.9890457125896687,
          0.9868208706534506,
          0.9817211256562193,
          0.9703729192649831,
          0.9466829621757397,
          0.9031120283032216,
          0.8392864940057115,
          0.7770193296871052,
          0.7580228734042291,
          0.7977700128137853,
          0.856607072988068,
          0.8678594493926005,
          0.7201895258625588,
          0.3710444764927489,
          0.10358072707300894,
          0.019492479853596666,
          0.0029329448377441053,
          0.0003273226793522749,
          0.000022527083579728495,
          9.309722427114828e-7,
          2.9785758129752463e-8,
          1.2051164150354614e-9,
          9.127672901880082e-11,
          1.2307830992551154e-11
         ]
        },
        {
         "line": {
          "color": "rgb(0.8686195996549393, 0.007397059381623605, 0.10847872199084851)"
         },
         "name": "CoH2S+2",
         "type": "scatter",
         "x": [
          2,
          2.3703703703703702,
          2.7407407407407405,
          3.111111111111111,
          3.4814814814814814,
          3.8518518518518516,
          4.222222222222222,
          4.592592592592593,
          4.962962962962963,
          5.333333333333333,
          5.703703703703703,
          6.0740740740740735,
          6.444444444444445,
          6.814814814814815,
          7.185185185185185,
          7.555555555555555,
          7.925925925925926,
          8.296296296296296,
          8.666666666666666,
          9.037037037037036,
          9.407407407407407,
          9.777777777777779,
          10.148148148148147,
          10.518518518518517,
          10.88888888888889,
          11.25925925925926,
          11.62962962962963,
          12
         ],
         "y": [
          0.00000414430781620518,
          0.000004148353717803926,
          0.0000041482140668143,
          0.00000414378800850331,
          0.000004131711647538981,
          0.000004102957818818505,
          0.000004036916798478611,
          0.000003890711375362396,
          0.000003588988237303021,
          0.0000030431819277445683,
          0.0000022428286294288578,
          0.0000013512988837303152,
          6.291862721172362e-7,
          2.213758936888396e-7,
          6.057153116333753e-8,
          1.3159861579042817e-8,
          2.0461442499928695e-9,
          1.7677490074866872e-10,
          8.318684350440377e-12,
          2.776768071467655e-13,
          1.0008736992528192e-14,
          1.0018125083924371e-14,
          1.0040749131152873e-14,
          1.0098436056215782e-14,
          1.0248305072028511e-14,
          1.0582869684483522e-14,
          1.1128541954999098e-14,
          1.1805756291682982e-14
         ]
        },
        {
         "line": {
          "color": "rgb(0.18642021735798175, 0.5095981449860165, 0.02969858416855342)"
         },
         "name": "CoHS+",
         "type": "scatter",
         "x": [
          2,
          2.3703703703703702,
          2.7407407407407405,
          3.111111111111111,
          3.4814814814814814,
          3.8518518518518516,
          4.222222222222222,
          4.592592592592593,
          4.962962962962963,
          5.333333333333333,
          5.703703703703703,
          6.0740740740740735,
          6.444444444444445,
          6.814814814814815,
          7.185185185185185,
          7.555555555555555,
          7.925925925925926,
          8.296296296296296,
          8.666666666666666,
          9.037037037037036,
          9.407407407407407,
          9.777777777777779,
          10.148148148148147,
          10.518518518518517,
          10.88888888888889,
          11.25925925925926,
          11.62962962962963,
          12
         ],
         "y": [
          0.000055982606681355706,
          0.00013147622778014522,
          0.00030846292554554826,
          0.00072295240061171,
          0.001691268375904629,
          0.003940486522679947,
          0.009096460553504033,
          0.020569287582398416,
          0.044516217465409624,
          0.08854708668546671,
          0.15300632505483372,
          0.21577380169771165,
          0.2344545541379639,
          0.19217804217656687,
          0.1226185958082161,
          0.06220366325615359,
          0.0225629708031674,
          0.0045348024001722895,
          0.0004958014661083285,
          0.00003826675740605422,
          0.0000023629690058248693,
          1.0372963847067413e-7,
          2.5286727363997534e-9,
          2.8705496948313534e-11,
          1.3174532848378335e-13,
          1.0582869684483522e-14,
          1.1128541954999098e-14,
          1.1805756291682982e-14
         ]
        },
        {
         "line": {
          "color": "rgb(0.801731629607197, 0.521451657956918, 0.9861280451648664)"
         },
         "name": "CoO2-2",
         "type": "scatter",
         "x": [
          2,
          2.3703703703703702,
          2.7407407407407405,
          3.111111111111111,
          3.4814814814814814,
          3.8518518518518516,
          4.222222222222222,
          4.592592592592593,
          4.962962962962963,
          5.333333333333333,
          5.703703703703703,
          6.0740740740740735,
          6.444444444444445,
          6.814814814814815,
          7.185185185185185,
          7.555555555555555,
          7.925925925925926,
          8.296296296296296,
          8.666666666666666,
          9.037037037037036,
          9.407407407407407,
          9.777777777777779,
          10.148148148148147,
          10.518518518518517,
          10.88888888888889,
          11.25925925925926,
          11.62962962962963,
          12
         ],
         "y": [
          1.0000017782688105e-14,
          1.0000017783074208e-14,
          1.0000017783980057e-14,
          1.0000017786105185e-14,
          1.0000017791090114e-14,
          1.0000017802779949e-14,
          1.0000017830175312e-14,
          1.0000017894290676e-14,
          1.0000018043988165e-14,
          1.0000018392576667e-14,
          3.395574254803645e-14,
          9.359271283723253e-13,
          2.7658676451567392e-11,
          9.002880409338622e-10,
          3.00541385623323e-8,
          9.304175766303899e-7,
          0.000022386177259378944,
          0.0003141542055078811,
          0.0024619033477239864,
          0.013852249934328669,
          0.06458182315807635,
          0.23163131182490654,
          0.5430344886154195,
          0.82412742797981,
          0.9587435493518626,
          0.9947934107547497,
          0.9996364548390743,
          0.9999819510886201
         ]
        },
        {
         "line": {
          "color": "rgb(0.8775663610937768, 0.9983443761079304, 0.06895380848322341)"
         },
         "name": "CoO@",
         "type": "scatter",
         "x": [
          2,
          2.3703703703703702,
          2.7407407407407405,
          3.111111111111111,
          3.4814814814814814,
          3.8518518518518516,
          4.222222222222222,
          4.592592592592593,
          4.962962962962963,
          5.333333333333333,
          5.703703703703703,
          6.0740740740740735,
          6.444444444444445,
          6.814814814814815,
          7.185185185185185,
          7.555555555555555,
          7.925925925925926,
          8.296296296296296,
          8.666666666666666,
          9.037037037037036,
          9.407407407407407,
          9.777777777777779,
          10.148148148148147,
          10.518518518518517,
          10.88888888888889,
          11.25925925925926,
          11.62962962962963,
          12
         ],
         "y": [
          4.959262059238312e-13,
          2.733026142981061e-12,
          1.5049010478326966e-11,
          8.281429592315652e-11,
          4.5533090478731363e-10,
          2.499097678756495e-9,
          1.3662761047386507e-8,
          7.40596684485255e-8,
          3.945941886286234e-7,
          0.0000020423519754503713,
          0.000010229775032256688,
          0.00005107031440356031,
          0.00027235330255253996,
          0.001596456630345501,
          0.009608956134264324,
          0.053720394957710575,
          0.23316496357630587,
          0.5882434048585494,
          0.8274442927787765,
          0.8308265648482551,
          0.6770925171185629,
          0.4040847506601408,
          0.14211259280458502,
          0.026121662118571917,
          0.0023962511361406693,
          0.00009940494194366058,
          0.000002060620617106695,
          3.005272045996253e-8
         ]
        },
        {
         "line": {
          "color": "rgb(0.002886299111698243, 0.9764705630459156, 0.7954539788028386)"
         },
         "name": "CoOH+",
         "type": "scatter",
         "x": [
          2,
          2.3703703703703702,
          2.7407407407407405,
          3.111111111111111,
          3.4814814814814814,
          3.8518518518518516,
          4.222222222222222,
          4.592592592592593,
          4.962962962962963,
          5.333333333333333,
          5.703703703703703,
          6.0740740740740735,
          6.444444444444445,
          6.814814814814815,
          7.185185185185185,
          7.555555555555555,
          7.925925925925926,
          8.296296296296296,
          8.666666666666666,
          9.037037037037036,
          9.407407407407407,
          9.777777777777779,
          10.148148148148147,
          10.518518518518517,
          10.88888888888889,
          11.25925925925926,
          11.62962962962963,
          12
         ],
         "y": [
          2.648303547235183e-8,
          6.220469658677085e-8,
          1.4598781530250015e-7,
          3.4240773634196366e-7,
          8.024080155472419e-7,
          0.0000018770754098508398,
          0.000004373895609242046,
          0.000010105223016416695,
          0.00002294862127683127,
          0.0000506292661679773,
          0.00010811316306120351,
          0.00023021780862553741,
          0.0005241175859706506,
          0.001312120290416074,
          0.0033719630359800397,
          0.008046155983037534,
          0.014911616648941037,
          0.01607912636455722,
          0.00967018200463721,
          0.004156889073608687,
          0.0014576453647404282,
          0.0003788243962448395,
          0.00005948254020424261,
          0.000005131213520427427,
          2.426417047692518e-7,
          5.9471751432814586e-9,
          8.253870305438595e-11,
          8.598280691285366e-13
         ]
        },
        {
         "line": {
          "color": "rgb(0.0, 0.0, 1.0)"
         },
         "name": "CoOH+2",
         "type": "scatter",
         "x": [
          2,
          2.3703703703703702,
          2.7407407407407405,
          3.111111111111111,
          3.4814814814814814,
          3.8518518518518516,
          4.222222222222222,
          4.592592592592593,
          4.962962962962963,
          5.333333333333333,
          5.703703703703703,
          6.0740740740740735,
          6.444444444444445,
          6.814814814814815,
          7.185185185185185,
          7.555555555555555,
          7.925925925925926,
          8.296296296296296,
          8.666666666666666,
          9.037037037037036,
          9.407407407407407,
          9.777777777777779,
          10.148148148148147,
          10.518518518518517,
          10.88888888888889,
          11.25925925925926,
          11.62962962962963,
          12
         ],
         "y": [
          1.0000017782688105e-14,
          1.0000017783074208e-14,
          1.0000017783980057e-14,
          1.0000017786105185e-14,
          1.0000017791090114e-14,
          1.0000017802779949e-14,
          1.0000017830175312e-14,
          1.0000017894290676e-14,
          1.0000018043988165e-14,
          1.0000018392576667e-14,
          1.0000019205610232e-14,
          1.0000021132826307e-14,
          1.0000025906621602e-14,
          1.0000038763743679e-14,
          1.0000078241057042e-14,
          1.0000217011231264e-14,
          1.000067950485703e-14,
          1.0001650027385967e-14,
          1.0002870589239419e-14,
          1.0004724089710559e-14,
          1.0008736992528192e-14,
          1.0018125083924371e-14,
          1.0040749131152873e-14,
          1.0098436056215782e-14,
          1.0248305072028511e-14,
          1.0582869684483522e-14,
          1.1128541954999098e-14,
          1.1805756291682982e-14
         ]
        },
        {
         "line": {
          "color": "rgb(0.0, 0.5, 0.5)"
         },
         "name": "HCoO2-",
         "type": "scatter",
         "x": [
          2,
          2.3703703703703702,
          2.7407407407407405,
          3.111111111111111,
          3.4814814814814814,
          3.8518518518518516,
          4.222222222222222,
          4.592592592592593,
          4.962962962962963,
          5.333333333333333,
          5.703703703703703,
          6.0740740740740735,
          6.444444444444445,
          6.814814814814815,
          7.185185185185185,
          7.555555555555555,
          7.925925925925926,
          8.296296296296296,
          8.666666666666666,
          9.037037037037036,
          9.407407407407407,
          9.777777777777779,
          10.148148148148147,
          10.518518518518517,
          10.88888888888889,
          11.25925925925926,
          11.62962962962963,
          12
         ],
         "y": [
          1.0000017782688105e-14,
          1.0000017783074208e-14,
          1.0000017783980057e-14,
          1.0000017786105185e-14,
          1.0000017791090114e-14,
          1.0000017802779949e-14,
          3.243330323319971e-14,
          4.124837434148089e-13,
          5.156477716321358e-12,
          6.262257063200228e-11,
          7.361109390001049e-10,
          8.629049487842834e-9,
          1.0815932749027076e-7,
          0.0000014909295868146153,
          0.000021096176902036696,
          0.0002771473418609033,
          0.0028274866397892135,
          0.016782179207989346,
          0.05555868299208517,
          0.13148817395425588,
          0.25391100250638693,
          0.3635752886247474,
          0.3147707445098604,
          0.14974484122137086,
          0.03885992689109194,
          0.005107177144599151,
          0.00036148436614253065,
          0.000018018845394601345
         ]
        }
       ],
       "layout": {
        "template": {
         "data": {
          "bar": [
           {
            "error_x": {
             "color": "#2a3f5f"
            },
            "error_y": {
             "color": "#2a3f5f"
            },
            "marker": {
             "line": {
              "color": "#E5ECF6",
              "width": 0.5
             },
             "pattern": {
              "fillmode": "overlay",
              "size": 10,
              "solidity": 0.2
             }
            },
            "type": "bar"
           }
          ],
          "barpolar": [
           {
            "marker": {
             "line": {
              "color": "#E5ECF6",
              "width": 0.5
             },
             "pattern": {
              "fillmode": "overlay",
              "size": 10,
              "solidity": 0.2
             }
            },
            "type": "barpolar"
           }
          ],
          "carpet": [
           {
            "aaxis": {
             "endlinecolor": "#2a3f5f",
             "gridcolor": "white",
             "linecolor": "white",
             "minorgridcolor": "white",
             "startlinecolor": "#2a3f5f"
            },
            "baxis": {
             "endlinecolor": "#2a3f5f",
             "gridcolor": "white",
             "linecolor": "white",
             "minorgridcolor": "white",
             "startlinecolor": "#2a3f5f"
            },
            "type": "carpet"
           }
          ],
          "choropleth": [
           {
            "colorbar": {
             "outlinewidth": 0,
             "ticks": ""
            },
            "type": "choropleth"
           }
          ],
          "contour": [
           {
            "colorbar": {
             "outlinewidth": 0,
             "ticks": ""
            },
            "colorscale": [
             [
              0,
              "#0d0887"
             ],
             [
              0.1111111111111111,
              "#46039f"
             ],
             [
              0.2222222222222222,
              "#7201a8"
             ],
             [
              0.3333333333333333,
              "#9c179e"
             ],
             [
              0.4444444444444444,
              "#bd3786"
             ],
             [
              0.5555555555555556,
              "#d8576b"
             ],
             [
              0.6666666666666666,
              "#ed7953"
             ],
             [
              0.7777777777777778,
              "#fb9f3a"
             ],
             [
              0.8888888888888888,
              "#fdca26"
             ],
             [
              1,
              "#f0f921"
             ]
            ],
            "type": "contour"
           }
          ],
          "contourcarpet": [
           {
            "colorbar": {
             "outlinewidth": 0,
             "ticks": ""
            },
            "type": "contourcarpet"
           }
          ],
          "heatmap": [
           {
            "colorbar": {
             "outlinewidth": 0,
             "ticks": ""
            },
            "colorscale": [
             [
              0,
              "#0d0887"
             ],
             [
              0.1111111111111111,
              "#46039f"
             ],
             [
              0.2222222222222222,
              "#7201a8"
             ],
             [
              0.3333333333333333,
              "#9c179e"
             ],
             [
              0.4444444444444444,
              "#bd3786"
             ],
             [
              0.5555555555555556,
              "#d8576b"
             ],
             [
              0.6666666666666666,
              "#ed7953"
             ],
             [
              0.7777777777777778,
              "#fb9f3a"
             ],
             [
              0.8888888888888888,
              "#fdca26"
             ],
             [
              1,
              "#f0f921"
             ]
            ],
            "type": "heatmap"
           }
          ],
          "heatmapgl": [
           {
            "colorbar": {
             "outlinewidth": 0,
             "ticks": ""
            },
            "colorscale": [
             [
              0,
              "#0d0887"
             ],
             [
              0.1111111111111111,
              "#46039f"
             ],
             [
              0.2222222222222222,
              "#7201a8"
             ],
             [
              0.3333333333333333,
              "#9c179e"
             ],
             [
              0.4444444444444444,
              "#bd3786"
             ],
             [
              0.5555555555555556,
              "#d8576b"
             ],
             [
              0.6666666666666666,
              "#ed7953"
             ],
             [
              0.7777777777777778,
              "#fb9f3a"
             ],
             [
              0.8888888888888888,
              "#fdca26"
             ],
             [
              1,
              "#f0f921"
             ]
            ],
            "type": "heatmapgl"
           }
          ],
          "histogram": [
           {
            "marker": {
             "pattern": {
              "fillmode": "overlay",
              "size": 10,
              "solidity": 0.2
             }
            },
            "type": "histogram"
           }
          ],
          "histogram2d": [
           {
            "colorbar": {
             "outlinewidth": 0,
             "ticks": ""
            },
            "colorscale": [
             [
              0,
              "#0d0887"
             ],
             [
              0.1111111111111111,
              "#46039f"
             ],
             [
              0.2222222222222222,
              "#7201a8"
             ],
             [
              0.3333333333333333,
              "#9c179e"
             ],
             [
              0.4444444444444444,
              "#bd3786"
             ],
             [
              0.5555555555555556,
              "#d8576b"
             ],
             [
              0.6666666666666666,
              "#ed7953"
             ],
             [
              0.7777777777777778,
              "#fb9f3a"
             ],
             [
              0.8888888888888888,
              "#fdca26"
             ],
             [
              1,
              "#f0f921"
             ]
            ],
            "type": "histogram2d"
           }
          ],
          "histogram2dcontour": [
           {
            "colorbar": {
             "outlinewidth": 0,
             "ticks": ""
            },
            "colorscale": [
             [
              0,
              "#0d0887"
             ],
             [
              0.1111111111111111,
              "#46039f"
             ],
             [
              0.2222222222222222,
              "#7201a8"
             ],
             [
              0.3333333333333333,
              "#9c179e"
             ],
             [
              0.4444444444444444,
              "#bd3786"
             ],
             [
              0.5555555555555556,
              "#d8576b"
             ],
             [
              0.6666666666666666,
              "#ed7953"
             ],
             [
              0.7777777777777778,
              "#fb9f3a"
             ],
             [
              0.8888888888888888,
              "#fdca26"
             ],
             [
              1,
              "#f0f921"
             ]
            ],
            "type": "histogram2dcontour"
           }
          ],
          "mesh3d": [
           {
            "colorbar": {
             "outlinewidth": 0,
             "ticks": ""
            },
            "type": "mesh3d"
           }
          ],
          "parcoords": [
           {
            "line": {
             "colorbar": {
              "outlinewidth": 0,
              "ticks": ""
             }
            },
            "type": "parcoords"
           }
          ],
          "pie": [
           {
            "automargin": true,
            "type": "pie"
           }
          ],
          "scatter": [
           {
            "fillpattern": {
             "fillmode": "overlay",
             "size": 10,
             "solidity": 0.2
            },
            "type": "scatter"
           }
          ],
          "scatter3d": [
           {
            "line": {
             "colorbar": {
              "outlinewidth": 0,
              "ticks": ""
             }
            },
            "marker": {
             "colorbar": {
              "outlinewidth": 0,
              "ticks": ""
             }
            },
            "type": "scatter3d"
           }
          ],
          "scattercarpet": [
           {
            "marker": {
             "colorbar": {
              "outlinewidth": 0,
              "ticks": ""
             }
            },
            "type": "scattercarpet"
           }
          ],
          "scattergeo": [
           {
            "marker": {
             "colorbar": {
              "outlinewidth": 0,
              "ticks": ""
             }
            },
            "type": "scattergeo"
           }
          ],
          "scattergl": [
           {
            "marker": {
             "colorbar": {
              "outlinewidth": 0,
              "ticks": ""
             }
            },
            "type": "scattergl"
           }
          ],
          "scattermapbox": [
           {
            "marker": {
             "colorbar": {
              "outlinewidth": 0,
              "ticks": ""
             }
            },
            "type": "scattermapbox"
           }
          ],
          "scatterpolar": [
           {
            "marker": {
             "colorbar": {
              "outlinewidth": 0,
              "ticks": ""
             }
            },
            "type": "scatterpolar"
           }
          ],
          "scatterpolargl": [
           {
            "marker": {
             "colorbar": {
              "outlinewidth": 0,
              "ticks": ""
             }
            },
            "type": "scatterpolargl"
           }
          ],
          "scatterternary": [
           {
            "marker": {
             "colorbar": {
              "outlinewidth": 0,
              "ticks": ""
             }
            },
            "type": "scatterternary"
           }
          ],
          "surface": [
           {
            "colorbar": {
             "outlinewidth": 0,
             "ticks": ""
            },
            "colorscale": [
             [
              0,
              "#0d0887"
             ],
             [
              0.1111111111111111,
              "#46039f"
             ],
             [
              0.2222222222222222,
              "#7201a8"
             ],
             [
              0.3333333333333333,
              "#9c179e"
             ],
             [
              0.4444444444444444,
              "#bd3786"
             ],
             [
              0.5555555555555556,
              "#d8576b"
             ],
             [
              0.6666666666666666,
              "#ed7953"
             ],
             [
              0.7777777777777778,
              "#fb9f3a"
             ],
             [
              0.8888888888888888,
              "#fdca26"
             ],
             [
              1,
              "#f0f921"
             ]
            ],
            "type": "surface"
           }
          ],
          "table": [
           {
            "cells": {
             "fill": {
              "color": "#EBF0F8"
             },
             "line": {
              "color": "white"
             }
            },
            "header": {
             "fill": {
              "color": "#C8D4E3"
             },
             "line": {
              "color": "white"
             }
            },
            "type": "table"
           }
          ]
         },
         "layout": {
          "annotationdefaults": {
           "arrowcolor": "#2a3f5f",
           "arrowhead": 0,
           "arrowwidth": 1
          },
          "autotypenumbers": "strict",
          "coloraxis": {
           "colorbar": {
            "outlinewidth": 0,
            "ticks": ""
           }
          },
          "colorscale": {
           "diverging": [
            [
             0,
             "#8e0152"
            ],
            [
             0.1,
             "#c51b7d"
            ],
            [
             0.2,
             "#de77ae"
            ],
            [
             0.3,
             "#f1b6da"
            ],
            [
             0.4,
             "#fde0ef"
            ],
            [
             0.5,
             "#f7f7f7"
            ],
            [
             0.6,
             "#e6f5d0"
            ],
            [
             0.7,
             "#b8e186"
            ],
            [
             0.8,
             "#7fbc41"
            ],
            [
             0.9,
             "#4d9221"
            ],
            [
             1,
             "#276419"
            ]
           ],
           "sequential": [
            [
             0,
             "#0d0887"
            ],
            [
             0.1111111111111111,
             "#46039f"
            ],
            [
             0.2222222222222222,
             "#7201a8"
            ],
            [
             0.3333333333333333,
             "#9c179e"
            ],
            [
             0.4444444444444444,
             "#bd3786"
            ],
            [
             0.5555555555555556,
             "#d8576b"
            ],
            [
             0.6666666666666666,
             "#ed7953"
            ],
            [
             0.7777777777777778,
             "#fb9f3a"
            ],
            [
             0.8888888888888888,
             "#fdca26"
            ],
            [
             1,
             "#f0f921"
            ]
           ],
           "sequentialminus": [
            [
             0,
             "#0d0887"
            ],
            [
             0.1111111111111111,
             "#46039f"
            ],
            [
             0.2222222222222222,
             "#7201a8"
            ],
            [
             0.3333333333333333,
             "#9c179e"
            ],
            [
             0.4444444444444444,
             "#bd3786"
            ],
            [
             0.5555555555555556,
             "#d8576b"
            ],
            [
             0.6666666666666666,
             "#ed7953"
            ],
            [
             0.7777777777777778,
             "#fb9f3a"
            ],
            [
             0.8888888888888888,
             "#fdca26"
            ],
            [
             1,
             "#f0f921"
            ]
           ]
          },
          "colorway": [
           "#636efa",
           "#EF553B",
           "#00cc96",
           "#ab63fa",
           "#FFA15A",
           "#19d3f3",
           "#FF6692",
           "#B6E880",
           "#FF97FF",
           "#FECB52"
          ],
          "font": {
           "color": "#2a3f5f"
          },
          "geo": {
           "bgcolor": "white",
           "lakecolor": "white",
           "landcolor": "#E5ECF6",
           "showlakes": true,
           "showland": true,
           "subunitcolor": "white"
          },
          "hoverlabel": {
           "align": "left"
          },
          "hovermode": "closest",
          "mapbox": {
           "style": "light"
          },
          "paper_bgcolor": "white",
          "plot_bgcolor": "#E5ECF6",
          "polar": {
           "angularaxis": {
            "gridcolor": "white",
            "linecolor": "white",
            "ticks": ""
           },
           "bgcolor": "#E5ECF6",
           "radialaxis": {
            "gridcolor": "white",
            "linecolor": "white",
            "ticks": ""
           }
          },
          "scene": {
           "xaxis": {
            "backgroundcolor": "#E5ECF6",
            "gridcolor": "white",
            "gridwidth": 2,
            "linecolor": "white",
            "showbackground": true,
            "ticks": "",
            "zerolinecolor": "white"
           },
           "yaxis": {
            "backgroundcolor": "#E5ECF6",
            "gridcolor": "white",
            "gridwidth": 2,
            "linecolor": "white",
            "showbackground": true,
            "ticks": "",
            "zerolinecolor": "white"
           },
           "zaxis": {
            "backgroundcolor": "#E5ECF6",
            "gridcolor": "white",
            "gridwidth": 2,
            "linecolor": "white",
            "showbackground": true,
            "ticks": "",
            "zerolinecolor": "white"
           }
          },
          "shapedefaults": {
           "line": {
            "color": "#2a3f5f"
           }
          },
          "ternary": {
           "aaxis": {
            "gridcolor": "white",
            "linecolor": "white",
            "ticks": ""
           },
           "baxis": {
            "gridcolor": "white",
            "linecolor": "white",
            "ticks": ""
           },
           "bgcolor": "#E5ECF6",
           "caxis": {
            "gridcolor": "white",
            "linecolor": "white",
            "ticks": ""
           }
          },
          "title": {
           "x": 0.05
          },
          "xaxis": {
           "automargin": true,
           "gridcolor": "white",
           "linecolor": "white",
           "ticks": "",
           "title": {
            "standoff": 15
           },
           "zerolinecolor": "white",
           "zerolinewidth": 2
          },
          "yaxis": {
           "automargin": true,
           "gridcolor": "white",
           "linecolor": "white",
           "ticks": "",
           "title": {
            "standoff": 15
           },
           "zerolinecolor": "white",
           "zerolinewidth": 2
          }
         }
        },
        "title": {
         "text": "Speciation of Co @ 200.0 °C, Psat, fO2 = Hem-Mt, [Co]=0.01 m, [S]=0.01 m, [Cl]=0.5 m"
        },
        "xaxis": {
         "title": {
          "text": "pH"
         }
        },
        "yaxis": {
         "title": {
          "text": "mole proportion of Co in species"
         }
        }
       }
      }
     },
     "metadata": {},
     "output_type": "display_data"
    },
    {
     "data": {
      "application/vnd.plotly.v1+json": {
       "config": {
        "plotlyServerURL": "https://plot.ly"
       },
       "data": [
        {
         "line": {
          "color": "rgb(0.0, 1.0, 0.0)"
         },
         "name": "Cu(HS)2-",
         "type": "scatter",
         "x": [
          2,
          2.3703703703703702,
          2.7407407407407405,
          3.111111111111111,
          3.4814814814814814,
          3.8518518518518516,
          4.222222222222222,
          4.592592592592593,
          4.962962962962963,
          5.333333333333333,
          5.703703703703703,
          6.0740740740740735,
          6.444444444444445,
          6.814814814814815,
          7.185185185185185,
          7.555555555555555,
          7.925925925925926,
          8.296296296296296,
          8.666666666666666,
          9.037037037037036,
          9.407407407407407,
          9.777777777777779,
          10.148148148148147,
          10.518518518518517,
          10.88888888888889,
          11.25925925925926,
          11.62962962962963,
          12
         ],
         "y": [
          0.000002830932481122355,
          0.000009890295367210257,
          0.000028223424486062325,
          0.0000672228206532445,
          0.00013917105566691422,
          0.0002605307007914279,
          0.00045460447500766244,
          0.0007543452276345034,
          0.001201962689955558,
          0.0018342684469507661,
          0.0026241046040580912,
          0.003349434376686719,
          0.0035683515126455805,
          0.0030976243161855,
          0.0023020196969528585,
          0.0015619612422518938,
          0.0010048899628964628,
          0.0006212777263971248,
          0.00036903693142842554,
          0.00020931198934094608,
          0.00010781356418975799,
          0.00003074176695050201,
          0.0000018248739880439076,
          3.6131374977955946e-8,
          3.4384391956726813e-10,
          1.3546435994901086e-12,
          1.1130165511480395e-14,
          1.1807574543801308e-14
         ]
        },
        {
         "line": {
          "color": "rgb(1.0, 0.0, 1.0)"
         },
         "name": "Cu(OH)2-",
         "type": "scatter",
         "x": [
          2,
          2.3703703703703702,
          2.7407407407407405,
          3.111111111111111,
          3.4814814814814814,
          3.8518518518518516,
          4.222222222222222,
          4.592592592592593,
          4.962962962962963,
          5.333333333333333,
          5.703703703703703,
          6.0740740740740735,
          6.444444444444445,
          6.814814814814815,
          7.185185185185185,
          7.555555555555555,
          7.925925925925926,
          8.296296296296296,
          8.666666666666666,
          9.037037037037036,
          9.407407407407407,
          9.777777777777779,
          10.148148148148147,
          10.518518518518517,
          10.88888888888889,
          11.25925925925926,
          11.62962962962963,
          12
         ],
         "y": [
          1.0000918547411707e-14,
          1.0000918547886642e-14,
          1.6266297656939567e-14,
          6.72817537010693e-14,
          2.6593791908293796e-13,
          1.0187489437346748e-12,
          3.825769647300918e-12,
          1.4220137695324446e-11,
          5.2857521815936995e-11,
          1.9961268136638739e-10,
          7.890945901937626e-10,
          3.449178883879227e-9,
          1.7876020915340596e-8,
          1.1261356795882499e-7,
          8.193508125863191e-7,
          0.000006430977697839566,
          0.00005210366276579297,
          0.0004255455876789884,
          0.0034405740842119383,
          0.02643678468856819,
          0.16564932910845917,
          0.5830659981399382,
          0.9137325503053791,
          0.9851511069009565,
          0.996700572728322,
          0.9989188904302545,
          0.9972886021371931,
          0.929768319044798
         ]
        },
        {
         "line": {
          "color": "rgb(0.0, 0.5, 1.0)"
         },
         "name": "Cu(OH)@",
         "type": "scatter",
         "x": [
          2,
          2.3703703703703702,
          2.7407407407407405,
          3.111111111111111,
          3.4814814814814814,
          3.8518518518518516,
          4.222222222222222,
          4.592592592592593,
          4.962962962962963,
          5.333333333333333,
          5.703703703703703,
          6.0740740740740735,
          6.444444444444445,
          6.814814814814815,
          7.185185185185185,
          7.555555555555555,
          7.925925925925926,
          8.296296296296296,
          8.666666666666666,
          9.037037037037036,
          9.407407407407407,
          9.777777777777779,
          10.148148148148147,
          10.518518518518517,
          10.88888888888889,
          11.25925925925926,
          11.62962962962963,
          12
         ],
         "y": [
          1.5184406257388973e-9,
          3.0452838233888433e-9,
          5.701429140609003e-9,
          1.0051145690937755e-8,
          1.6932570788555935e-8,
          2.7646197801686494e-8,
          4.4250047196323325e-8,
          7.010131666917241e-8,
          1.1105981729686366e-7,
          1.7875803634080505e-7,
          3.011836073173335e-7,
          5.610942645210721e-7,
          0.0000012393519331229711,
          0.0000033273367946127446,
          0.00001031636394978168,
          0.00003450077564979646,
          0.00011907088852424711,
          0.00041403953121290786,
          0.0014236095440847583,
          0.004639553079227555,
          0.012246901009107025,
          0.01789397940882334,
          0.011377877897581922,
          0.004743127508679068,
          0.0016950386436236928,
          0.0005355893995482611,
          0.0001564956914877647,
          0.000042669744969934185
         ]
        },
        {
         "line": {
          "color": "rgb(1.0, 0.5, 0.0)"
         },
         "name": "Cu+",
         "type": "scatter",
         "x": [
          2,
          2.3703703703703702,
          2.7407407407407405,
          3.111111111111111,
          3.4814814814814814,
          3.8518518518518516,
          4.222222222222222,
          4.592592592592593,
          4.962962962962963,
          5.333333333333333,
          5.703703703703703,
          6.0740740740740735,
          6.444444444444445,
          6.814814814814815,
          7.185185185185185,
          7.555555555555555,
          7.925925925925926,
          8.296296296296296,
          8.666666666666666,
          9.037037037037036,
          9.407407407407407,
          9.777777777777779,
          10.148148148148147,
          10.518518518518517,
          10.88888888888889,
          11.25925925925926,
          11.62962962962963,
          12
         ],
         "y": [
          0.000277415906412169,
          0.0002371329837235614,
          0.00018922650203487875,
          0.00014218335359453458,
          0.0001020917347195142,
          0.00007104550807837552,
          0.00004846715288432372,
          0.00003272591269232986,
          0.000022098055163913213,
          0.000015159842807728733,
          0.000010886668964085532,
          0.000008644526935782033,
          0.000008138724476518513,
          0.000009314017882579206,
          0.000012310593170023915,
          0.000017553070743935323,
          0.000025835759959797775,
          0.000038335320200561085,
          0.000056316952201597255,
          0.00007865203928716657,
          0.00008965037111158489,
          0.000057523264264028335,
          0.000016503399586982688,
          0.0000032958672559966338,
          6.389614064342963e-7,
          1.330952738713312e-7,
          3.146763993865715e-8,
          8.009017525675845e-9
         ]
        },
        {
         "line": {
          "color": "rgb(0.5, 0.75, 0.5)"
         },
         "name": "Cu+2",
         "type": "scatter",
         "x": [
          2,
          2.3703703703703702,
          2.7407407407407405,
          3.111111111111111,
          3.4814814814814814,
          3.8518518518518516,
          4.222222222222222,
          4.592592592592593,
          4.962962962962963,
          5.333333333333333,
          5.703703703703703,
          6.0740740740740735,
          6.444444444444445,
          6.814814814814815,
          7.185185185185185,
          7.555555555555555,
          7.925925925925926,
          8.296296296296296,
          8.666666666666666,
          9.037037037037036,
          9.407407407407407,
          9.777777777777779,
          10.148148148148147,
          10.518518518518517,
          10.88888888888889,
          11.25925925925926,
          11.62962962962963,
          12
         ],
         "y": [
          1.2320185381806976e-7,
          4.488227678264121e-8,
          1.526356655937607e-8,
          4.887805042857978e-9,
          1.4957245230446193e-9,
          4.4360926237893163e-10,
          1.2897973289663264e-10,
          3.711776569204064e-11,
          1.0682320120014253e-11,
          3.123445111933043e-12,
          9.560329390250591e-13,
          3.23580222721136e-13,
          1.2986926028773563e-13,
          6.336735310619802e-14,
          3.571800597772226e-14,
          2.1727970850542677e-14,
          1.3655129257827247e-14,
          1.0001398507503655e-14,
          1.0002056796969304e-14,
          1.0003670956802597e-14,
          1.0007827681466959e-14,
          1.001821253224607e-14,
          1.004150522015676e-14,
          1.009907845769923e-14,
          1.0248928905588233e-14,
          1.0583924671790468e-14,
          1.1130165511480395e-14,
          1.1807574543801308e-14
         ]
        },
        {
         "line": {
          "color": "rgb(0.3985148503731565, 0.06871562412766008, 0.5698903026276297)"
         },
         "name": "CuCl+",
         "type": "scatter",
         "x": [
          2,
          2.3703703703703702,
          2.7407407407407405,
          3.111111111111111,
          3.4814814814814814,
          3.8518518518518516,
          4.222222222222222,
          4.592592592592593,
          4.962962962962963,
          5.333333333333333,
          5.703703703703703,
          6.0740740740740735,
          6.444444444444445,
          6.814814814814815,
          7.185185185185185,
          7.555555555555555,
          7.925925925925926,
          8.296296296296296,
          8.666666666666666,
          9.037037037037036,
          9.407407407407407,
          9.777777777777779,
          10.148148148148147,
          10.518518518518517,
          10.88888888888889,
          11.25925925925926,
          11.62962962962963,
          12
         ],
         "y": [
          1.2742910235867708e-7,
          4.661864717005665e-8,
          1.5938525336354115e-8,
          5.131421492983095e-9,
          1.5776183193458374e-9,
          4.696159757047794e-10,
          1.3690938504663804e-10,
          3.947426405777166e-11,
          1.1375027534349044e-11,
          3.32873109815521e-12,
          1.0193520404324238e-12,
          3.450674621006774e-13,
          1.3846850359604044e-13,
          6.752410686419214e-14,
          3.801950323298929e-14,
          2.308456543879893e-14,
          1.446041010420076e-14,
          1.0001398507503655e-14,
          1.0002056796969304e-14,
          1.0003670956802597e-14,
          1.0007827681466959e-14,
          1.001821253224607e-14,
          1.004150522015676e-14,
          1.009907845769923e-14,
          1.0248928905588233e-14,
          1.0583924671790468e-14,
          1.1130165511480395e-14,
          1.1807574543801308e-14
         ]
        },
        {
         "line": {
          "color": "rgb(0.8686195996549393, 0.007397059381623605, 0.10847872199084851)"
         },
         "name": "CuCl2-",
         "type": "scatter",
         "x": [
          2,
          2.3703703703703702,
          2.7407407407407405,
          3.111111111111111,
          3.4814814814814814,
          3.8518518518518516,
          4.222222222222222,
          4.592592592592593,
          4.962962962962963,
          5.333333333333333,
          5.703703703703703,
          6.0740740740740735,
          6.444444444444445,
          6.814814814814815,
          7.185185185185185,
          7.555555555555555,
          7.925925925925926,
          8.296296296296296,
          8.666666666666666,
          9.037037037037036,
          9.407407407407407,
          9.777777777777779,
          10.148148148148147,
          10.518518518518517,
          10.88888888888889,
          11.25925925925926,
          11.62962962962963,
          12
         ],
         "y": [
          0.7296190776099073,
          0.6288680299777596,
          0.5070911585229483,
          0.38506771443630183,
          0.27903746743612773,
          0.1955858241589576,
          0.13413640694015552,
          0.09090837622921709,
          0.06154016269900839,
          0.04228740994823355,
          0.030397859452619917,
          0.02414900148143708,
          0.022736500966287803,
          0.02600807904416216,
          0.034341311204779665,
          0.04888077461142964,
          0.07174149796797398,
          0.10595856290615596,
          0.15448045335153743,
          0.21307568149694167,
          0.23822528091161213,
          0.1484249304632717,
          0.04030446833862449,
          0.007259986214070546,
          0.0012498784634515118,
          0.0002649176077522545,
          0.00008331221945705994,
          0.000034991178385961585
         ]
        },
        {
         "line": {
          "color": "rgb(0.18642021735798175, 0.5095981449860165, 0.02969858416855342)"
         },
         "name": "CuCl2@",
         "type": "scatter",
         "x": [
          2,
          2.3703703703703702,
          2.7407407407407405,
          3.111111111111111,
          3.4814814814814814,
          3.8518518518518516,
          4.222222222222222,
          4.592592592592593,
          4.962962962962963,
          5.333333333333333,
          5.703703703703703,
          6.0740740740740735,
          6.444444444444445,
          6.814814814814815,
          7.185185185185185,
          7.555555555555555,
          7.925925925925926,
          8.296296296296296,
          8.666666666666666,
          9.037037037037036,
          9.407407407407407,
          9.777777777777779,
          10.148148148148147,
          10.518518518518517,
          10.88888888888889,
          11.25925925925926,
          11.62962962962963,
          12
         ],
         "y": [
          9.354580930509158e-9,
          3.4364622410149614e-9,
          1.1810311886265383e-9,
          3.822398541139035e-10,
          1.1805540179616274e-10,
          3.5268449376600645e-11,
          1.0309138072660469e-11,
          2.977878972398195e-12,
          8.591906897422774e-13,
          2.5163397916174254e-13,
          7.709495955099522e-14,
          2.610357050049179e-14,
          1.0474368110029618e-14,
          1.0000934284075101e-14,
          1.0000955482292206e-14,
          1.0001005265892056e-14,
          1.0001122323439272e-14,
          1.0001398507503655e-14,
          1.0002056796969304e-14,
          1.0003670956802597e-14,
          1.0007827681466959e-14,
          1.001821253224607e-14,
          1.004150522015676e-14,
          1.009907845769923e-14,
          1.0248928905588233e-14,
          1.0583924671790468e-14,
          1.1130165511480395e-14,
          1.1807574543801308e-14
         ]
        },
        {
         "line": {
          "color": "rgb(0.801731629607197, 0.521451657956918, 0.9861280451648664)"
         },
         "name": "CuCl3-",
         "type": "scatter",
         "x": [
          2,
          2.3703703703703702,
          2.7407407407407405,
          3.111111111111111,
          3.4814814814814814,
          3.8518518518518516,
          4.222222222222222,
          4.592592592592593,
          4.962962962962963,
          5.333333333333333,
          5.703703703703703,
          6.0740740740740735,
          6.444444444444445,
          6.814814814814815,
          7.185185185185185,
          7.555555555555555,
          7.925925925925926,
          8.296296296296296,
          8.666666666666666,
          9.037037037037036,
          9.407407407407407,
          9.777777777777779,
          10.148148148148147,
          10.518518518518517,
          10.88888888888889,
          11.25925925925926,
          11.62962962962963,
          12
         ],
         "y": [
          1.0657613016056299e-10,
          3.931449637470686e-11,
          1.3582399260599044e-11,
          4.419255223252281e-12,
          1.3711843189086722e-12,
          4.1111631133537707e-13,
          1.2049050966804463e-13,
          3.4869538497671824e-14,
          1.0073416871697812e-14,
          1.0000919066644099e-14,
          1.0000919765547625e-14,
          1.0000921405405524e-14,
          1.0000925253408216e-14,
          1.0000934284075101e-14,
          1.0000955482292206e-14,
          1.0001005265892056e-14,
          1.0001122323439272e-14,
          1.0001398507503655e-14,
          1.0002056796969304e-14,
          1.0003670956802597e-14,
          1.0007827681466959e-14,
          1.001821253224607e-14,
          1.004150522015676e-14,
          1.009907845769923e-14,
          1.0248928905588233e-14,
          1.0583924671790468e-14,
          1.1130165511480395e-14,
          1.1807574543801308e-14
         ]
        },
        {
         "line": {
          "color": "rgb(0.8775663610937768, 0.9983443761079304, 0.06895380848322341)"
         },
         "name": "CuCl3-2",
         "type": "scatter",
         "x": [
          2,
          2.3703703703703702,
          2.7407407407407405,
          3.111111111111111,
          3.4814814814814814,
          3.8518518518518516,
          4.222222222222222,
          4.592592592592593,
          4.962962962962963,
          5.333333333333333,
          5.703703703703703,
          6.0740740740740735,
          6.444444444444445,
          6.814814814814815,
          7.185185185185185,
          7.555555555555555,
          7.925925925925926,
          8.296296296296296,
          8.666666666666666,
          9.037037037037036,
          9.407407407407407,
          9.777777777777779,
          10.148148148148147,
          10.518518518518517,
          10.88888888888889,
          11.25925925925926,
          11.62962962962963,
          12
         ],
         "y": [
          0.03368399773990888,
          0.029151467342522226,
          0.023627685357619447,
          0.01803557215274229,
          0.013128553752754122,
          0.009234899430939969,
          0.006349989411689555,
          0.004311461767825291,
          0.0029222553728292916,
          0.0020096698322465707,
          0.0014453749481437683,
          0.0011486072153467398,
          0.0010816136359539687,
          0.0012373492735160449,
          0.001633835955030174,
          0.0023256088319591204,
          0.003413876806544543,
          0.0050460663904355165,
          0.007375606408257486,
          0.010252428480283493,
          0.011739008191861265,
          0.007782073551452909,
          0.0023796021212624833,
          0.0005515580653664356,
          0.00017089708365918991,
          0.00012292545011365435,
          0.00026901182481402116,
          0.0012353955959333006
         ]
        },
        {
         "line": {
          "color": "rgb(0.002886299111698243, 0.9764705630459156, 0.7954539788028386)"
         },
         "name": "CuCl4-2",
         "type": "scatter",
         "x": [
          2,
          2.3703703703703702,
          2.7407407407407405,
          3.111111111111111,
          3.4814814814814814,
          3.8518518518518516,
          4.222222222222222,
          4.592592592592593,
          4.962962962962963,
          5.333333333333333,
          5.703703703703703,
          6.0740740740740735,
          6.444444444444445,
          6.814814814814815,
          7.185185185185185,
          7.555555555555555,
          7.925925925925926,
          8.296296296296296,
          8.666666666666666,
          9.037037037037036,
          9.407407407407407,
          9.777777777777779,
          10.148148148148147,
          10.518518518518517,
          10.88888888888889,
          11.25925925925926,
          11.62962962962963,
          12
         ],
         "y": [
          1.0161577188309818e-13,
          3.7638069944875124e-14,
          1.3070294053366635e-14,
          1.0000918550517599e-14,
          1.0000918554721132e-14,
          1.0000918564563693e-14,
          1.0000918587642095e-14,
          1.0000918641772394e-14,
          1.000091876875143e-14,
          1.0000919066644099e-14,
          1.0000919765547625e-14,
          1.0000921405405524e-14,
          1.0000925253408216e-14,
          1.0000934284075101e-14,
          1.0000955482292206e-14,
          1.0001005265892056e-14,
          1.0001122323439272e-14,
          1.0001398507503655e-14,
          1.0002056796969304e-14,
          1.0003670956802597e-14,
          1.0007827681466959e-14,
          1.001821253224607e-14,
          1.004150522015676e-14,
          1.009907845769923e-14,
          1.0248928905588233e-14,
          1.0583924671790468e-14,
          1.1130165511480395e-14,
          1.1807574543801308e-14
         ]
        },
        {
         "line": {
          "color": "rgb(0.0, 0.0, 1.0)"
         },
         "name": "CuCl4-3",
         "type": "scatter",
         "x": [
          2,
          2.3703703703703702,
          2.7407407407407405,
          3.111111111111111,
          3.4814814814814814,
          3.8518518518518516,
          4.222222222222222,
          4.592592592592593,
          4.962962962962963,
          5.333333333333333,
          5.703703703703703,
          6.0740740740740735,
          6.444444444444445,
          6.814814814814815,
          7.185185185185185,
          7.555555555555555,
          7.925925925925926,
          8.296296296296296,
          8.666666666666666,
          9.037037037037036,
          9.407407407407407,
          9.777777777777779,
          10.148148148148147,
          10.518518518518517,
          10.88888888888889,
          11.25925925925926,
          11.62962962962963,
          12
         ],
         "y": [
          0.0008497024016889689,
          0.0007383610595750519,
          0.0006015249610616102,
          0.00046154050200389015,
          0.0003374809988968331,
          0.00023823079687184474,
          0.00016423473377371816,
          0.00011171390409795466,
          0.00007581193087051245,
          0.000052179230644794594,
          0.00003754739262929505,
          0.000029847951622583906,
          0.000028113349341205727,
          0.00003216681010138189,
          0.00004248135754891429,
          0.00006048499515232679,
          0.00008884738033485107,
          0.00013154922755758916,
          0.00019313259478087396,
          0.0002716655012553404,
          0.00032164680039424256,
          0.00023173500496155453,
          0.00008280121118892734,
          0.000026336964957418573,
          0.000016157393228688884,
          0.00004357451650577903,
          0.0007169712961553426,
          0.03805565751187714
         ]
        },
        {
         "line": {
          "color": "rgb(0.0, 0.5, 0.5)"
         },
         "name": "CuCl@",
         "type": "scatter",
         "x": [
          2,
          2.3703703703703702,
          2.7407407407407405,
          3.111111111111111,
          3.4814814814814814,
          3.8518518518518516,
          4.222222222222222,
          4.592592592592593,
          4.962962962962963,
          5.333333333333333,
          5.703703703703703,
          6.0740740740740735,
          6.444444444444445,
          6.814814814814815,
          7.185185185185185,
          7.555555555555555,
          7.925925925925926,
          8.296296296296296,
          8.666666666666666,
          9.037037037037036,
          9.407407407407407,
          9.777777777777779,
          10.148148148148147,
          10.518518518518517,
          10.88888888888889,
          11.25925925925926,
          11.62962962962963,
          12
         ],
         "y": [
          0.07598161695329483,
          0.06521782889725368,
          0.05231411380892658,
          0.039515906615529485,
          0.02850365204244063,
          0.01990705391032552,
          0.01361645779208572,
          0.009211125609485333,
          0.006227580584664531,
          0.004275762107182938,
          0.0030720252363226185,
          0.002439855124555885,
          0.0022969816008625594,
          0.0026277982655468542,
          0.003470856252555747,
          0.004943059944495281,
          0.00726094534409186,
          0.010736760660630439,
          0.015676484659767367,
          0.021645880368663214,
          0.024135804023640753,
          0.014836722791827406,
          0.0039270352456806466,
          0.0006691411749222057,
          0.00009864330674640845,
          0.000014333714627316583,
          0.0000023506219643170424,
          4.301782410716014e-7
         ]
        },
        {
         "line": {
          "color": "rgb(0.5, 1.0, 1.0)"
         },
         "name": "CuHS@",
         "type": "scatter",
         "x": [
          2,
          2.3703703703703702,
          2.7407407407407405,
          3.111111111111111,
          3.4814814814814814,
          3.8518518518518516,
          4.222222222222222,
          4.592592592592593,
          4.962962962962963,
          5.333333333333333,
          5.703703703703703,
          6.0740740740740735,
          6.444444444444445,
          6.814814814814815,
          7.185185185185185,
          7.555555555555555,
          7.925925925925926,
          8.296296296296296,
          8.666666666666666,
          9.037037037037036,
          9.407407407407407,
          9.777777777777779,
          10.148148148148147,
          10.518518518518517,
          10.88888888888889,
          11.25925925925926,
          11.62962962962963,
          12
         ],
         "y": [
          0.15958509683215413,
          0.27577719141023355,
          0.41614802931554135,
          0.5567098396551162,
          0.6787515628487502,
          0.774702386894347,
          0.8452297949616858,
          0.8946701811520588,
          0.9280100175304408,
          0.9495253716262203,
          0.9624118997209536,
          0.968874044776981,
          0.9702790429776972,
          0.9669842283105995,
          0.958186049189785,
          0.9421696254294204,
          0.9162929317762986,
          0.8766278608042783,
          0.8169847768231271,
          0.7233899957740118,
          0.5474843176421686,
          0.22767539734220957,
          0.02817550936073769,
          0.0015916927367586018,
          0.0000551672758634329,
          0.0000010929064761306152,
          1.3660580657202654e-8,
          1.3387108434524306e-10
         ]
        },
        {
         "line": {
          "color": "rgb(0.8718215152095252, 0.27902353705659233, 0.522153115123993)"
         },
         "name": "CuO2-2",
         "type": "scatter",
         "x": [
          2,
          2.3703703703703702,
          2.7407407407407405,
          3.111111111111111,
          3.4814814814814814,
          3.8518518518518516,
          4.222222222222222,
          4.592592592592593,
          4.962962962962963,
          5.333333333333333,
          5.703703703703703,
          6.0740740740740735,
          6.444444444444445,
          6.814814814814815,
          7.185185185185185,
          7.555555555555555,
          7.925925925925926,
          8.296296296296296,
          8.666666666666666,
          9.037037037037036,
          9.407407407407407,
          9.777777777777779,
          10.148148148148147,
          10.518518518518517,
          10.88888888888889,
          11.25925925925926,
          11.62962962962963,
          12
         ],
         "y": [
          1.0000918547411707e-14,
          1.0000918547886642e-14,
          1.0000918548707196e-14,
          1.0000918550517599e-14,
          1.0000918554721132e-14,
          1.0000918564563693e-14,
          1.0000918587642095e-14,
          1.0000918641772394e-14,
          1.000091876875143e-14,
          1.0000919066644099e-14,
          1.0000919765547625e-14,
          1.0000921405405524e-14,
          1.0000925253408216e-14,
          1.0000934284075101e-14,
          1.0000955482292206e-14,
          1.008630828791913e-14,
          1.9204193748608771e-13,
          3.691494596626811e-12,
          7.047651698619125e-11,
          1.2886494107182463e-9,
          1.9597730716384807e-8,
          1.749327055557582e-7,
          7.461354066302808e-7,
          0.0000025716939923206224,
          0.000011839615395301003,
          0.0000973361812549213,
          0.001481921714380542,
          0.03086119357456776
         ]
        },
        {
         "line": {
          "color": "rgb(0.9624536849997353, 0.7687757605399443, 0.47160179338651154)"
         },
         "name": "CuO2H-",
         "type": "scatter",
         "x": [
          2,
          2.3703703703703702,
          2.7407407407407405,
          3.111111111111111,
          3.4814814814814814,
          3.8518518518518516,
          4.222222222222222,
          4.592592592592593,
          4.962962962962963,
          5.333333333333333,
          5.703703703703703,
          6.0740740740740735,
          6.444444444444445,
          6.814814814814815,
          7.185185185185185,
          7.555555555555555,
          7.925925925925926,
          8.296296296296296,
          8.666666666666666,
          9.037037037037036,
          9.407407407407407,
          9.777777777777779,
          10.148148148148147,
          10.518518518518517,
          10.88888888888889,
          11.25925925925926,
          11.62962962962963,
          12
         ],
         "y": [
          1.0000918547411707e-14,
          1.0000918547886642e-14,
          1.0000918548707196e-14,
          1.0000918550517599e-14,
          1.0000918554721132e-14,
          1.0000918564563693e-14,
          1.0000918587642095e-14,
          1.0000918641772394e-14,
          1.000091876875143e-14,
          1.0000919066644099e-14,
          1.0000919765547625e-14,
          1.0000921405405524e-14,
          2.034669651905455e-14,
          1.2817822161823542e-13,
          9.325978312587073e-13,
          7.319874858292763e-12,
          5.930614341401534e-11,
          4.843824795900735e-10,
          3.916505275644972e-9,
          3.009803862826058e-8,
          1.8865912509103272e-7,
          6.646634087317487e-7,
          0.0000010437300126755408,
          0.0000011310789827805703,
          0.000001160508036208861,
          0.0000012048388157184196,
          0.0000012887845917505616,
          0.000001334852064593494
         ]
        },
        {
         "line": {
          "color": "rgb(0.427439805002088, 0.4275393378074068, 0.741562189212264)"
         },
         "name": "CuO@",
         "type": "scatter",
         "x": [
          2,
          2.3703703703703702,
          2.7407407407407405,
          3.111111111111111,
          3.4814814814814814,
          3.8518518518518516,
          4.222222222222222,
          4.592592592592593,
          4.962962962962963,
          5.333333333333333,
          5.703703703703703,
          6.0740740740740735,
          6.444444444444445,
          6.814814814814815,
          7.185185185185185,
          7.555555555555555,
          7.925925925925926,
          8.296296296296296,
          8.666666666666666,
          9.037037037037036,
          9.407407407407407,
          9.777777777777779,
          10.148148148148147,
          10.518518518518517,
          10.88888888888889,
          11.25925925925926,
          11.62962962962963,
          12
         ],
         "y": [
          1.0000918547411707e-14,
          1.0000918547886642e-14,
          1.866433272884273e-14,
          3.290364592655604e-14,
          5.543081202152817e-14,
          9.050315271085731e-14,
          1.4485784531399113e-13,
          2.294850800686839e-13,
          3.635676546319575e-13,
          5.851859250721925e-13,
          9.859608308041158e-13,
          1.8368100727790768e-12,
          4.0571707816069325e-12,
          1.089245747741593e-11,
          3.3771998005145206e-11,
          1.1294346289921422e-10,
          3.8980069667176007e-10,
          1.3554694375833375e-9,
          4.6608409224978156e-9,
          1.5191872130289384e-8,
          4.01162130971174e-8,
          5.8667363983877934e-8,
          3.737971035156675e-8,
          1.5662477863231564e-8,
          5.676343066710596e-9,
          1.8579596782545967e-9,
          5.816576607514798e-10,
          1.7619112481630848e-10
         ]
        },
        {
         "line": {
          "color": "rgb(0.5555609667904232, 0.30510172745316533, 0.1664035478908391)"
         },
         "name": "CuOH+",
         "type": "scatter",
         "x": [
          2,
          2.3703703703703702,
          2.7407407407407405,
          3.111111111111111,
          3.4814814814814814,
          3.8518518518518516,
          4.222222222222222,
          4.592592592592593,
          4.962962962962963,
          5.333333333333333,
          5.703703703703703,
          6.0740740740740735,
          6.444444444444445,
          6.814814814814815,
          7.185185185185185,
          7.555555555555555,
          7.925925925925926,
          8.296296296296296,
          8.666666666666666,
          9.037037037037036,
          9.407407407407407,
          9.777777777777779,
          10.148148148148147,
          10.518518518518517,
          10.88888888888889,
          11.25925925925926,
          11.62962962962963,
          12
         ],
         "y": [
          1.3456795829220165e-11,
          1.1502834230032699e-11,
          9.179029208889343e-12,
          6.897076811468392e-12,
          4.9523130747422465e-12,
          3.446315530043693e-12,
          2.3510754678922595e-12,
          1.5874909877557193e-12,
          1.0719482361909668e-12,
          7.353845656407538e-13,
          5.280979777374892e-13,
          4.1933349704220866e-13,
          3.9479522114775624e-13,
          4.5180116406814367e-13,
          5.971455796183659e-13,
          8.514094014004509e-13,
          1.2530742130706e-12,
          1.859068638439399e-12,
          2.7303033297713156e-12,
          3.810671650039587e-12,
          4.336713379148627e-12,
          2.7723597946343875e-12,
          7.895624368505356e-13,
          1.5516685581019855e-13,
          2.900786282678487e-14,
          1.0583924671790468e-14,
          1.1130165511480395e-14,
          1.1807574543801308e-14
         ]
        }
       ],
       "layout": {
        "template": {
         "data": {
          "bar": [
           {
            "error_x": {
             "color": "#2a3f5f"
            },
            "error_y": {
             "color": "#2a3f5f"
            },
            "marker": {
             "line": {
              "color": "#E5ECF6",
              "width": 0.5
             },
             "pattern": {
              "fillmode": "overlay",
              "size": 10,
              "solidity": 0.2
             }
            },
            "type": "bar"
           }
          ],
          "barpolar": [
           {
            "marker": {
             "line": {
              "color": "#E5ECF6",
              "width": 0.5
             },
             "pattern": {
              "fillmode": "overlay",
              "size": 10,
              "solidity": 0.2
             }
            },
            "type": "barpolar"
           }
          ],
          "carpet": [
           {
            "aaxis": {
             "endlinecolor": "#2a3f5f",
             "gridcolor": "white",
             "linecolor": "white",
             "minorgridcolor": "white",
             "startlinecolor": "#2a3f5f"
            },
            "baxis": {
             "endlinecolor": "#2a3f5f",
             "gridcolor": "white",
             "linecolor": "white",
             "minorgridcolor": "white",
             "startlinecolor": "#2a3f5f"
            },
            "type": "carpet"
           }
          ],
          "choropleth": [
           {
            "colorbar": {
             "outlinewidth": 0,
             "ticks": ""
            },
            "type": "choropleth"
           }
          ],
          "contour": [
           {
            "colorbar": {
             "outlinewidth": 0,
             "ticks": ""
            },
            "colorscale": [
             [
              0,
              "#0d0887"
             ],
             [
              0.1111111111111111,
              "#46039f"
             ],
             [
              0.2222222222222222,
              "#7201a8"
             ],
             [
              0.3333333333333333,
              "#9c179e"
             ],
             [
              0.4444444444444444,
              "#bd3786"
             ],
             [
              0.5555555555555556,
              "#d8576b"
             ],
             [
              0.6666666666666666,
              "#ed7953"
             ],
             [
              0.7777777777777778,
              "#fb9f3a"
             ],
             [
              0.8888888888888888,
              "#fdca26"
             ],
             [
              1,
              "#f0f921"
             ]
            ],
            "type": "contour"
           }
          ],
          "contourcarpet": [
           {
            "colorbar": {
             "outlinewidth": 0,
             "ticks": ""
            },
            "type": "contourcarpet"
           }
          ],
          "heatmap": [
           {
            "colorbar": {
             "outlinewidth": 0,
             "ticks": ""
            },
            "colorscale": [
             [
              0,
              "#0d0887"
             ],
             [
              0.1111111111111111,
              "#46039f"
             ],
             [
              0.2222222222222222,
              "#7201a8"
             ],
             [
              0.3333333333333333,
              "#9c179e"
             ],
             [
              0.4444444444444444,
              "#bd3786"
             ],
             [
              0.5555555555555556,
              "#d8576b"
             ],
             [
              0.6666666666666666,
              "#ed7953"
             ],
             [
              0.7777777777777778,
              "#fb9f3a"
             ],
             [
              0.8888888888888888,
              "#fdca26"
             ],
             [
              1,
              "#f0f921"
             ]
            ],
            "type": "heatmap"
           }
          ],
          "heatmapgl": [
           {
            "colorbar": {
             "outlinewidth": 0,
             "ticks": ""
            },
            "colorscale": [
             [
              0,
              "#0d0887"
             ],
             [
              0.1111111111111111,
              "#46039f"
             ],
             [
              0.2222222222222222,
              "#7201a8"
             ],
             [
              0.3333333333333333,
              "#9c179e"
             ],
             [
              0.4444444444444444,
              "#bd3786"
             ],
             [
              0.5555555555555556,
              "#d8576b"
             ],
             [
              0.6666666666666666,
              "#ed7953"
             ],
             [
              0.7777777777777778,
              "#fb9f3a"
             ],
             [
              0.8888888888888888,
              "#fdca26"
             ],
             [
              1,
              "#f0f921"
             ]
            ],
            "type": "heatmapgl"
           }
          ],
          "histogram": [
           {
            "marker": {
             "pattern": {
              "fillmode": "overlay",
              "size": 10,
              "solidity": 0.2
             }
            },
            "type": "histogram"
           }
          ],
          "histogram2d": [
           {
            "colorbar": {
             "outlinewidth": 0,
             "ticks": ""
            },
            "colorscale": [
             [
              0,
              "#0d0887"
             ],
             [
              0.1111111111111111,
              "#46039f"
             ],
             [
              0.2222222222222222,
              "#7201a8"
             ],
             [
              0.3333333333333333,
              "#9c179e"
             ],
             [
              0.4444444444444444,
              "#bd3786"
             ],
             [
              0.5555555555555556,
              "#d8576b"
             ],
             [
              0.6666666666666666,
              "#ed7953"
             ],
             [
              0.7777777777777778,
              "#fb9f3a"
             ],
             [
              0.8888888888888888,
              "#fdca26"
             ],
             [
              1,
              "#f0f921"
             ]
            ],
            "type": "histogram2d"
           }
          ],
          "histogram2dcontour": [
           {
            "colorbar": {
             "outlinewidth": 0,
             "ticks": ""
            },
            "colorscale": [
             [
              0,
              "#0d0887"
             ],
             [
              0.1111111111111111,
              "#46039f"
             ],
             [
              0.2222222222222222,
              "#7201a8"
             ],
             [
              0.3333333333333333,
              "#9c179e"
             ],
             [
              0.4444444444444444,
              "#bd3786"
             ],
             [
              0.5555555555555556,
              "#d8576b"
             ],
             [
              0.6666666666666666,
              "#ed7953"
             ],
             [
              0.7777777777777778,
              "#fb9f3a"
             ],
             [
              0.8888888888888888,
              "#fdca26"
             ],
             [
              1,
              "#f0f921"
             ]
            ],
            "type": "histogram2dcontour"
           }
          ],
          "mesh3d": [
           {
            "colorbar": {
             "outlinewidth": 0,
             "ticks": ""
            },
            "type": "mesh3d"
           }
          ],
          "parcoords": [
           {
            "line": {
             "colorbar": {
              "outlinewidth": 0,
              "ticks": ""
             }
            },
            "type": "parcoords"
           }
          ],
          "pie": [
           {
            "automargin": true,
            "type": "pie"
           }
          ],
          "scatter": [
           {
            "fillpattern": {
             "fillmode": "overlay",
             "size": 10,
             "solidity": 0.2
            },
            "type": "scatter"
           }
          ],
          "scatter3d": [
           {
            "line": {
             "colorbar": {
              "outlinewidth": 0,
              "ticks": ""
             }
            },
            "marker": {
             "colorbar": {
              "outlinewidth": 0,
              "ticks": ""
             }
            },
            "type": "scatter3d"
           }
          ],
          "scattercarpet": [
           {
            "marker": {
             "colorbar": {
              "outlinewidth": 0,
              "ticks": ""
             }
            },
            "type": "scattercarpet"
           }
          ],
          "scattergeo": [
           {
            "marker": {
             "colorbar": {
              "outlinewidth": 0,
              "ticks": ""
             }
            },
            "type": "scattergeo"
           }
          ],
          "scattergl": [
           {
            "marker": {
             "colorbar": {
              "outlinewidth": 0,
              "ticks": ""
             }
            },
            "type": "scattergl"
           }
          ],
          "scattermapbox": [
           {
            "marker": {
             "colorbar": {
              "outlinewidth": 0,
              "ticks": ""
             }
            },
            "type": "scattermapbox"
           }
          ],
          "scatterpolar": [
           {
            "marker": {
             "colorbar": {
              "outlinewidth": 0,
              "ticks": ""
             }
            },
            "type": "scatterpolar"
           }
          ],
          "scatterpolargl": [
           {
            "marker": {
             "colorbar": {
              "outlinewidth": 0,
              "ticks": ""
             }
            },
            "type": "scatterpolargl"
           }
          ],
          "scatterternary": [
           {
            "marker": {
             "colorbar": {
              "outlinewidth": 0,
              "ticks": ""
             }
            },
            "type": "scatterternary"
           }
          ],
          "surface": [
           {
            "colorbar": {
             "outlinewidth": 0,
             "ticks": ""
            },
            "colorscale": [
             [
              0,
              "#0d0887"
             ],
             [
              0.1111111111111111,
              "#46039f"
             ],
             [
              0.2222222222222222,
              "#7201a8"
             ],
             [
              0.3333333333333333,
              "#9c179e"
             ],
             [
              0.4444444444444444,
              "#bd3786"
             ],
             [
              0.5555555555555556,
              "#d8576b"
             ],
             [
              0.6666666666666666,
              "#ed7953"
             ],
             [
              0.7777777777777778,
              "#fb9f3a"
             ],
             [
              0.8888888888888888,
              "#fdca26"
             ],
             [
              1,
              "#f0f921"
             ]
            ],
            "type": "surface"
           }
          ],
          "table": [
           {
            "cells": {
             "fill": {
              "color": "#EBF0F8"
             },
             "line": {
              "color": "white"
             }
            },
            "header": {
             "fill": {
              "color": "#C8D4E3"
             },
             "line": {
              "color": "white"
             }
            },
            "type": "table"
           }
          ]
         },
         "layout": {
          "annotationdefaults": {
           "arrowcolor": "#2a3f5f",
           "arrowhead": 0,
           "arrowwidth": 1
          },
          "autotypenumbers": "strict",
          "coloraxis": {
           "colorbar": {
            "outlinewidth": 0,
            "ticks": ""
           }
          },
          "colorscale": {
           "diverging": [
            [
             0,
             "#8e0152"
            ],
            [
             0.1,
             "#c51b7d"
            ],
            [
             0.2,
             "#de77ae"
            ],
            [
             0.3,
             "#f1b6da"
            ],
            [
             0.4,
             "#fde0ef"
            ],
            [
             0.5,
             "#f7f7f7"
            ],
            [
             0.6,
             "#e6f5d0"
            ],
            [
             0.7,
             "#b8e186"
            ],
            [
             0.8,
             "#7fbc41"
            ],
            [
             0.9,
             "#4d9221"
            ],
            [
             1,
             "#276419"
            ]
           ],
           "sequential": [
            [
             0,
             "#0d0887"
            ],
            [
             0.1111111111111111,
             "#46039f"
            ],
            [
             0.2222222222222222,
             "#7201a8"
            ],
            [
             0.3333333333333333,
             "#9c179e"
            ],
            [
             0.4444444444444444,
             "#bd3786"
            ],
            [
             0.5555555555555556,
             "#d8576b"
            ],
            [
             0.6666666666666666,
             "#ed7953"
            ],
            [
             0.7777777777777778,
             "#fb9f3a"
            ],
            [
             0.8888888888888888,
             "#fdca26"
            ],
            [
             1,
             "#f0f921"
            ]
           ],
           "sequentialminus": [
            [
             0,
             "#0d0887"
            ],
            [
             0.1111111111111111,
             "#46039f"
            ],
            [
             0.2222222222222222,
             "#7201a8"
            ],
            [
             0.3333333333333333,
             "#9c179e"
            ],
            [
             0.4444444444444444,
             "#bd3786"
            ],
            [
             0.5555555555555556,
             "#d8576b"
            ],
            [
             0.6666666666666666,
             "#ed7953"
            ],
            [
             0.7777777777777778,
             "#fb9f3a"
            ],
            [
             0.8888888888888888,
             "#fdca26"
            ],
            [
             1,
             "#f0f921"
            ]
           ]
          },
          "colorway": [
           "#636efa",
           "#EF553B",
           "#00cc96",
           "#ab63fa",
           "#FFA15A",
           "#19d3f3",
           "#FF6692",
           "#B6E880",
           "#FF97FF",
           "#FECB52"
          ],
          "font": {
           "color": "#2a3f5f"
          },
          "geo": {
           "bgcolor": "white",
           "lakecolor": "white",
           "landcolor": "#E5ECF6",
           "showlakes": true,
           "showland": true,
           "subunitcolor": "white"
          },
          "hoverlabel": {
           "align": "left"
          },
          "hovermode": "closest",
          "mapbox": {
           "style": "light"
          },
          "paper_bgcolor": "white",
          "plot_bgcolor": "#E5ECF6",
          "polar": {
           "angularaxis": {
            "gridcolor": "white",
            "linecolor": "white",
            "ticks": ""
           },
           "bgcolor": "#E5ECF6",
           "radialaxis": {
            "gridcolor": "white",
            "linecolor": "white",
            "ticks": ""
           }
          },
          "scene": {
           "xaxis": {
            "backgroundcolor": "#E5ECF6",
            "gridcolor": "white",
            "gridwidth": 2,
            "linecolor": "white",
            "showbackground": true,
            "ticks": "",
            "zerolinecolor": "white"
           },
           "yaxis": {
            "backgroundcolor": "#E5ECF6",
            "gridcolor": "white",
            "gridwidth": 2,
            "linecolor": "white",
            "showbackground": true,
            "ticks": "",
            "zerolinecolor": "white"
           },
           "zaxis": {
            "backgroundcolor": "#E5ECF6",
            "gridcolor": "white",
            "gridwidth": 2,
            "linecolor": "white",
            "showbackground": true,
            "ticks": "",
            "zerolinecolor": "white"
           }
          },
          "shapedefaults": {
           "line": {
            "color": "#2a3f5f"
           }
          },
          "ternary": {
           "aaxis": {
            "gridcolor": "white",
            "linecolor": "white",
            "ticks": ""
           },
           "baxis": {
            "gridcolor": "white",
            "linecolor": "white",
            "ticks": ""
           },
           "bgcolor": "#E5ECF6",
           "caxis": {
            "gridcolor": "white",
            "linecolor": "white",
            "ticks": ""
           }
          },
          "title": {
           "x": 0.05
          },
          "xaxis": {
           "automargin": true,
           "gridcolor": "white",
           "linecolor": "white",
           "ticks": "",
           "title": {
            "standoff": 15
           },
           "zerolinecolor": "white",
           "zerolinewidth": 2
          },
          "yaxis": {
           "automargin": true,
           "gridcolor": "white",
           "linecolor": "white",
           "ticks": "",
           "title": {
            "standoff": 15
           },
           "zerolinecolor": "white",
           "zerolinewidth": 2
          }
         }
        },
        "title": {
         "text": "Speciation of Cu @ 200.0 °C, Psat, fO2 = Hem-Mt, [Cu]=0.01 m, [S]=0.01 m, [Cl]=0.5 m"
        },
        "xaxis": {
         "title": {
          "text": "pH"
         }
        },
        "yaxis": {
         "title": {
          "text": "mole proportion of Cu in species"
         }
        }
       }
      }
     },
     "metadata": {},
     "output_type": "display_data"
    },
    {
     "data": {
      "application/vnd.plotly.v1+json": {
       "config": {
        "plotlyServerURL": "https://plot.ly"
       },
       "data": [
        {
         "line": {
          "color": "rgb(0.0, 1.0, 0.0)"
         },
         "name": "Pb(HS)2@",
         "type": "scatter",
         "x": [
          2,
          2.3703703703703702,
          2.7407407407407405,
          3.111111111111111,
          3.4814814814814814,
          3.8518518518518516,
          4.222222222222222,
          4.592592592592593,
          4.962962962962963,
          5.333333333333333,
          5.703703703703703,
          6.0740740740740735,
          6.444444444444445,
          6.814814814814815,
          7.185185185185185,
          7.555555555555555,
          7.925925925925926,
          8.296296296296296,
          8.666666666666666,
          9.037037037037036,
          9.407407407407407,
          9.777777777777779,
          10.148148148148147,
          10.518518518518517,
          10.88888888888889,
          11.25925925925926,
          11.62962962962963,
          12
         ],
         "y": [
          0.00009238761198354211,
          0.0005077669055374919,
          0.0027631116856797477,
          0.01431964210593183,
          0.060985273802805155,
          0.16784906857306847,
          0.2941771312088011,
          0.3895582159583599,
          0.44543604577932605,
          0.4735532165559356,
          0.48635126132519685,
          0.49147895610194425,
          0.4923763484659215,
          0.4891361847408582,
          0.47485519598096226,
          0.4142487321543935,
          0.22299239451759634,
          0.02588942688257967,
          0.0008435858402626556,
          0.000020845683359614322,
          4.145229580171581e-7,
          6.3928511096032495e-9,
          7.229225683732782e-11,
          5.125162319435948e-13,
          1.0248008670617633e-14,
          1.0583018406350543e-14,
          1.1129269201918345e-14,
          1.1806854190185214e-14
         ]
        },
        {
         "line": {
          "color": "rgb(1.0, 0.0, 1.0)"
         },
         "name": "Pb(HS)3-",
         "type": "scatter",
         "x": [
          2,
          2.3703703703703702,
          2.7407407407407405,
          3.111111111111111,
          3.4814814814814814,
          3.8518518518518516,
          4.222222222222222,
          4.592592592592593,
          4.962962962962963,
          5.333333333333333,
          5.703703703703703,
          6.0740740740740735,
          6.444444444444445,
          6.814814814814815,
          7.185185185185185,
          7.555555555555555,
          7.925925925925926,
          8.296296296296296,
          8.666666666666666,
          9.037037037037036,
          9.407407407407407,
          9.777777777777779,
          10.148148148148147,
          10.518518518518517,
          10.88888888888889,
          11.25925925925926,
          11.62962962962963,
          12
         ],
         "y": [
          8.260439040576389e-10,
          1.0642285460047622e-8,
          1.3523904214997968e-7,
          0.0000016054296029647419,
          0.00001448081282684454,
          0.0000705133250015545,
          0.00017848198575855616,
          0.0002935124585615777,
          0.000377338057227749,
          0.00042503569270162375,
          0.0004483319824475604,
          0.00045915976419649016,
          0.00046800974485507716,
          0.0004985970162204744,
          0.0006257657048054704,
          0.0008904411799336741,
          0.000686329528015439,
          0.000058456073095994424,
          8.551749362660523e-7,
          8.95457095169271e-9,
          7.43597279443391e-11,
          4.666567550684246e-13,
          1.0040741684146169e-14,
          1.0098149569435369e-14,
          1.0248008670617633e-14,
          1.0583018406350543e-14,
          1.1129269201918345e-14,
          1.1806854190185214e-14
         ]
        },
        {
         "line": {
          "color": "rgb(0.0, 0.5, 1.0)"
         },
         "name": "Pb+2",
         "type": "scatter",
         "x": [
          2,
          2.3703703703703702,
          2.7407407407407405,
          3.111111111111111,
          3.4814814814814814,
          3.8518518518518516,
          4.222222222222222,
          4.592592592592593,
          4.962962962962963,
          5.333333333333333,
          5.703703703703703,
          6.0740740740740735,
          6.444444444444445,
          6.814814814814815,
          7.185185185185185,
          7.555555555555555,
          7.925925925925926,
          8.296296296296296,
          8.666666666666666,
          9.037037037037036,
          9.407407407407407,
          9.777777777777779,
          10.148148148148147,
          10.518518518518517,
          10.88888888888889,
          11.25925925925926,
          11.62962962962963,
          12
         ],
         "y": [
          0.015613062164423912,
          0.015615881974097247,
          0.015580726127112856,
          0.015380647697057985,
          0.014571278250065134,
          0.01274796119633546,
          0.010648316707154742,
          0.009102374657715028,
          0.00821188991675814,
          0.007766672165879977,
          0.00755765877203197,
          0.007434821055022115,
          0.00719778479806384,
          0.006225436344784605,
          0.003631037563136594,
          0.0012050791940078221,
          0.0003273752095133969,
          0.00007337248258586155,
          0.000012066439935876685,
          0.0000017073681300318137,
          2.06424373159411e-7,
          2.1836919131743706e-8,
          2.218442582525435e-9,
          2.523442011144263e-10,
          4.064060096686008e-11,
          1.2332452800202591e-11,
          7.592547317533495e-12,
          7.57151355724821e-12
         ]
        },
        {
         "line": {
          "color": "rgb(1.0, 0.5, 0.0)"
         },
         "name": "PbCl+",
         "type": "scatter",
         "x": [
          2,
          2.3703703703703702,
          2.7407407407407405,
          3.111111111111111,
          3.4814814814814814,
          3.8518518518518516,
          4.222222222222222,
          4.592592592592593,
          4.962962962962963,
          5.333333333333333,
          5.703703703703703,
          6.0740740740740735,
          6.444444444444445,
          6.814814814814815,
          7.185185185185185,
          7.555555555555555,
          7.925925925925926,
          8.296296296296296,
          8.666666666666666,
          9.037037037037036,
          9.407407407407407,
          9.777777777777779,
          10.148148148148147,
          10.518518518518517,
          10.88888888888889,
          11.25925925925926,
          11.62962962962963,
          12
         ],
         "y": [
          0.1961921973646088,
          0.19617465213199245,
          0.19573811585045356,
          0.193365965147999,
          0.1837686733564584,
          0.16194473053423014,
          0.13643804520125608,
          0.11738797249682606,
          0.10630640163080365,
          0.10073442972243211,
          0.09810815541594557,
          0.09655117494852405,
          0.09351502449815294,
          0.08103310824972629,
          0.047485457863178517,
          0.015751070796685685,
          0.004200866222840865,
          0.0009203104366850424,
          0.00014977097906016817,
          0.000020831833348585465,
          0.0000024295573107217423,
          2.3777776493156002e-7,
          2.0346178897322414e-8,
          1.5977785381226042e-9,
          1.2310720658521385e-10,
          1.065832719994585e-11,
          1.1767755882530424e-12,
          1.657412966755447e-13
         ]
        },
        {
         "line": {
          "color": "rgb(0.5, 0.75, 0.5)"
         },
         "name": "PbCl2@",
         "type": "scatter",
         "x": [
          2,
          2.3703703703703702,
          2.7407407407407405,
          3.111111111111111,
          3.4814814814814814,
          3.8518518518518516,
          4.222222222222222,
          4.592592592592593,
          4.962962962962963,
          5.333333333333333,
          5.703703703703703,
          6.0740740740740735,
          6.444444444444445,
          6.814814814814815,
          7.185185185185185,
          7.555555555555555,
          7.925925925925926,
          8.296296296296296,
          8.666666666666666,
          9.037037037037036,
          9.407407407407407,
          9.777777777777779,
          10.148148148148147,
          10.518518518518517,
          10.88888888888889,
          11.25925925925926,
          11.62962962962963,
          12
         ],
         "y": [
          0.47870796784030634,
          0.4785341126138537,
          0.4774636433845303,
          0.47192761267842165,
          0.4495539950329069,
          0.3983083781952618,
          0.33772098473845047,
          0.291968761411523,
          0.26515260650666805,
          0.25161115353761065,
          0.24521162858590065,
          0.24140150881632486,
          0.2339356784819316,
          0.20316320554667422,
          0.11975623443762641,
          0.039859432658069266,
          0.010558999042233624,
          0.002291062317737636,
          0.00037112993046055706,
          0.00005122339370673204,
          0.000005878296670834621,
          5.558153623416574e-7,
          4.417589885760108e-8,
          2.990319541731977e-9,
          1.7909881736137744e-10,
          1.1233760367548508e-11,
          9.051002255101296e-13,
          9.730346318895213e-14
         ]
        },
        {
         "line": {
          "color": "rgb(0.3985148503731565, 0.06871562412766008, 0.5698903026276297)"
         },
         "name": "PbCl3-",
         "type": "scatter",
         "x": [
          2,
          2.3703703703703702,
          2.7407407407407405,
          3.111111111111111,
          3.4814814814814814,
          3.8518518518518516,
          4.222222222222222,
          4.592592592592593,
          4.962962962962963,
          5.333333333333333,
          5.703703703703703,
          6.0740740740740735,
          6.444444444444445,
          6.814814814814815,
          7.185185185185185,
          7.555555555555555,
          7.925925925925926,
          8.296296296296296,
          8.666666666666666,
          9.037037037037036,
          9.407407407407407,
          9.777777777777779,
          10.148148148148147,
          10.518518518518517,
          10.88888888888889,
          11.25925925925926,
          11.62962962962963,
          12
         ],
         "y": [
          0.2156194818239785,
          0.21548009851246314,
          0.21498808145555734,
          0.21257177563465832,
          0.20282793120932657,
          0.1803937342494451,
          0.15364470314003817,
          0.13328217303414794,
          0.1212818794562559,
          0.11520373101579263,
          0.11232740854292968,
          0.11061547777489786,
          0.10726383278439452,
          0.09340541798594262,
          0.05546469887921896,
          0.01859985761520858,
          0.004949156976229801,
          0.0010769631211865255,
          0.00017464232639362678,
          0.00002413918456716318,
          0.0000027790198979936692,
          2.647591555326801e-7,
          2.1453225405880747e-8,
          1.532510257258943e-9,
          1.0716155516641794e-10,
          9.804149149080759e-12,
          1.5148810716139135e-12,
          3.7482672547881333e-13
         ]
        },
        {
         "line": {
          "color": "rgb(0.8686195996549393, 0.007397059381623605, 0.10847872199084851)"
         },
         "name": "PbCl4-2",
         "type": "scatter",
         "x": [
          2,
          2.3703703703703702,
          2.7407407407407405,
          3.111111111111111,
          3.4814814814814814,
          3.8518518518518516,
          4.222222222222222,
          4.592592592592593,
          4.962962962962963,
          5.333333333333333,
          5.703703703703703,
          6.0740740740740735,
          6.444444444444445,
          6.814814814814815,
          7.185185185185185,
          7.555555555555555,
          7.925925925925926,
          8.296296296296296,
          8.666666666666666,
          9.037037037037036,
          9.407407407407407,
          9.777777777777779,
          10.148148148148147,
          10.518518518518517,
          10.88888888888889,
          11.25925925925926,
          11.62962962962963,
          12
         ],
         "y": [
          0.09377487504712458,
          0.09368741295016313,
          0.09346603494868165,
          0.09243239614675172,
          0.08827755309467498,
          0.07868382128178181,
          0.06718827504852855,
          0.05839628619906885,
          0.053198526637813284,
          0.050561568323311816,
          0.04931369332012601,
          0.04857453979624392,
          0.047136695175496235,
          0.04117029571168174,
          0.024652940247075383,
          0.008358434947331454,
          0.002256941896803266,
          0.0004982621452535701,
          0.00008130200715042903,
          0.000011347269290110303,
          0.0000013335234275202756,
          1.3296651880865682e-7,
          1.1969168630729204e-8,
          1.0972806410916345e-9,
          1.3805551038123694e-10,
          4.2863940885100285e-11,
          4.609092412152695e-11,
          1.2500033269149225e-10
         ]
        },
        {
         "line": {
          "color": "rgb(0.18642021735798175, 0.5095981449860165, 0.02969858416855342)"
         },
         "name": "PbF2@",
         "type": "scatter",
         "x": [
          2,
          2.3703703703703702,
          2.7407407407407405,
          3.111111111111111,
          3.4814814814814814,
          3.8518518518518516,
          4.222222222222222,
          4.592592592592593,
          4.962962962962963,
          5.333333333333333,
          5.703703703703703,
          6.0740740740740735,
          6.444444444444445,
          6.814814814814815,
          7.185185185185185,
          7.555555555555555,
          7.925925925925926,
          8.296296296296296,
          8.666666666666666,
          9.037037037037036,
          9.407407407407407,
          9.777777777777779,
          10.148148148148147,
          10.518518518518517,
          10.88888888888889,
          11.25925925925926,
          11.62962962962963,
          12
         ],
         "y": [
          1.0000017782689558e-14,
          1.0000017783077783e-14,
          1.0000017783989293e-14,
          1.0000017786127491e-14,
          1.0000017791112172e-14,
          1.0000017802639104e-14,
          1.0000017829660943e-14,
          1.0000017895462232e-14,
          1.0000018066132265e-14,
          1.0000018558740318e-14,
          1.0000020223203895e-14,
          1.0000026908034883e-14,
          1.000005713160906e-14,
          1.0000187865935946e-14,
          1.0000552061903924e-14,
          1.000102712311587e-14,
          1.0001649547854402e-14,
          1.0002442236250133e-14,
          1.000336472115877e-14,
          1.0005241662853097e-14,
          1.0009298601236546e-14,
          1.0018485577194685e-14,
          1.0040741684146169e-14,
          1.0098149569435369e-14,
          1.0248008670617633e-14,
          1.0583018406350543e-14,
          1.1129269201918345e-14,
          1.1806854190185214e-14
         ]
        },
        {
         "line": {
          "color": "rgb(0.801731629607197, 0.521451657956918, 0.9861280451648664)"
         },
         "name": "PbO2H-",
         "type": "scatter",
         "x": [
          2,
          2.3703703703703702,
          2.7407407407407405,
          3.111111111111111,
          3.4814814814814814,
          3.8518518518518516,
          4.222222222222222,
          4.592592592592593,
          4.962962962962963,
          5.333333333333333,
          5.703703703703703,
          6.0740740740740735,
          6.444444444444445,
          6.814814814814815,
          7.185185185185185,
          7.555555555555555,
          7.925925925925926,
          8.296296296296296,
          8.666666666666666,
          9.037037037037036,
          9.407407407407407,
          9.777777777777779,
          10.148148148148147,
          10.518518518518517,
          10.88888888888889,
          11.25925925925926,
          11.62962962962963,
          12
         ],
         "y": [
          1.0000017782689558e-14,
          1.0000017783077783e-14,
          1.0000017783989293e-14,
          1.0000017786127491e-14,
          7.991142516433887e-14,
          9.052705379814621e-13,
          9.79601479050508e-12,
          1.0840051706854321e-10,
          1.2647778510673254e-9,
          1.545994075142908e-8,
          1.9435499308885854e-7,
          0.0000024695545961477256,
          0.00003087411240076241,
          0.0003446720114258247,
          0.002591274723297813,
          0.011041630744683562,
          0.0380979817072958,
          0.10822374133254403,
          0.2279044232646033,
          0.4107444625017336,
          0.6228444988937368,
          0.7981976769243482,
          0.9066335087214288,
          0.961688786206109,
          0.9861238031539543,
          0.9955833115766403,
          0.9987033106792307,
          0.9996203550504623
         ]
        },
        {
         "line": {
          "color": "rgb(0.8775663610937768, 0.9983443761079304, 0.06895380848322341)"
         },
         "name": "PbO@",
         "type": "scatter",
         "x": [
          2,
          2.3703703703703702,
          2.7407407407407405,
          3.111111111111111,
          3.4814814814814814,
          3.8518518518518516,
          4.222222222222222,
          4.592592592592593,
          4.962962962962963,
          5.333333333333333,
          5.703703703703703,
          6.0740740740740735,
          6.444444444444445,
          6.814814814814815,
          7.185185185185185,
          7.555555555555555,
          7.925925925925926,
          8.296296296296296,
          8.666666666666666,
          9.037037037037036,
          9.407407407407407,
          9.777777777777779,
          10.148148148148147,
          10.518518518518517,
          10.88888888888889,
          11.25925925925926,
          11.62962962962963,
          12
         ],
         "y": [
          4.8897422326137055e-11,
          2.692241651045819e-10,
          1.4787958769264294e-9,
          8.038868030360153e-9,
          4.19854589550459e-8,
          2.0288491131711376e-7,
          9.366277090646809e-7,
          0.000004420725092292357,
          0.000021993298330061227,
          0.00011460546227948325,
          0.0006141322002588393,
          0.003326003188998027,
          0.01772171287533469,
          0.08430508046186597,
          0.26995677813979757,
          0.4892863245592913,
          0.7154544136116578,
          0.8607231222667575,
          0.7703684038515881,
          0.5890947225477042,
          0.377134002834129,
          0.2017991361848436,
          0.093365985668691,
          0.03831112834401863,
          0.01387618168872437,
          0.004416685593451569,
          0.0012966887238824196,
          0.00037964470341043857
         ]
        },
        {
         "line": {
          "color": "rgb(0.002886299111698243, 0.9764705630459156, 0.7954539788028386)"
         },
         "name": "PbOH+",
         "type": "scatter",
         "x": [
          2,
          2.3703703703703702,
          2.7407407407407405,
          3.111111111111111,
          3.4814814814814814,
          3.8518518518518516,
          4.222222222222222,
          4.592592592592593,
          4.962962962962963,
          5.333333333333333,
          5.703703703703703,
          6.0740740740740735,
          6.444444444444445,
          6.814814814814815,
          7.185185185185185,
          7.555555555555555,
          7.925925925925926,
          8.296296296296296,
          8.666666666666666,
          9.037037037037036,
          9.407407407407407,
          9.777777777777779,
          10.148148148148147,
          10.518518518518517,
          10.88888888888889,
          11.25925925925926,
          11.62962962962963,
          12
         ],
         "y": [
          2.7272613062763283e-8,
          6.400036306691532e-8,
          1.4983012640873095e-7,
          3.4712068822454384e-7,
          7.724553871195974e-7,
          0.0000015897590489473863,
          0.000003125332497208356,
          0.000006282950294973563,
          0.00001331745202900596,
          0.000029572064105395614,
          0.00006753550016012794,
          0.0001558889992416847,
          0.00035403906343899,
          0.0007180019308101869,
          0.0009806164608909857,
          0.0007589961503850407,
          0.0004755412878038286,
          0.0002452829415643503,
          0.00009382018559880014,
          0.00003071126357925708,
          0.0000084568531260641,
          0.000001967341759888944,
          4.0537465371540395e-7,
          7.79791066983436e-8,
          1.4569226867864891e-8,
          2.7429839892241312e-9,
          5.395732296296307e-10,
          1.1288184040493858e-10
         ]
        }
       ],
       "layout": {
        "template": {
         "data": {
          "bar": [
           {
            "error_x": {
             "color": "#2a3f5f"
            },
            "error_y": {
             "color": "#2a3f5f"
            },
            "marker": {
             "line": {
              "color": "#E5ECF6",
              "width": 0.5
             },
             "pattern": {
              "fillmode": "overlay",
              "size": 10,
              "solidity": 0.2
             }
            },
            "type": "bar"
           }
          ],
          "barpolar": [
           {
            "marker": {
             "line": {
              "color": "#E5ECF6",
              "width": 0.5
             },
             "pattern": {
              "fillmode": "overlay",
              "size": 10,
              "solidity": 0.2
             }
            },
            "type": "barpolar"
           }
          ],
          "carpet": [
           {
            "aaxis": {
             "endlinecolor": "#2a3f5f",
             "gridcolor": "white",
             "linecolor": "white",
             "minorgridcolor": "white",
             "startlinecolor": "#2a3f5f"
            },
            "baxis": {
             "endlinecolor": "#2a3f5f",
             "gridcolor": "white",
             "linecolor": "white",
             "minorgridcolor": "white",
             "startlinecolor": "#2a3f5f"
            },
            "type": "carpet"
           }
          ],
          "choropleth": [
           {
            "colorbar": {
             "outlinewidth": 0,
             "ticks": ""
            },
            "type": "choropleth"
           }
          ],
          "contour": [
           {
            "colorbar": {
             "outlinewidth": 0,
             "ticks": ""
            },
            "colorscale": [
             [
              0,
              "#0d0887"
             ],
             [
              0.1111111111111111,
              "#46039f"
             ],
             [
              0.2222222222222222,
              "#7201a8"
             ],
             [
              0.3333333333333333,
              "#9c179e"
             ],
             [
              0.4444444444444444,
              "#bd3786"
             ],
             [
              0.5555555555555556,
              "#d8576b"
             ],
             [
              0.6666666666666666,
              "#ed7953"
             ],
             [
              0.7777777777777778,
              "#fb9f3a"
             ],
             [
              0.8888888888888888,
              "#fdca26"
             ],
             [
              1,
              "#f0f921"
             ]
            ],
            "type": "contour"
           }
          ],
          "contourcarpet": [
           {
            "colorbar": {
             "outlinewidth": 0,
             "ticks": ""
            },
            "type": "contourcarpet"
           }
          ],
          "heatmap": [
           {
            "colorbar": {
             "outlinewidth": 0,
             "ticks": ""
            },
            "colorscale": [
             [
              0,
              "#0d0887"
             ],
             [
              0.1111111111111111,
              "#46039f"
             ],
             [
              0.2222222222222222,
              "#7201a8"
             ],
             [
              0.3333333333333333,
              "#9c179e"
             ],
             [
              0.4444444444444444,
              "#bd3786"
             ],
             [
              0.5555555555555556,
              "#d8576b"
             ],
             [
              0.6666666666666666,
              "#ed7953"
             ],
             [
              0.7777777777777778,
              "#fb9f3a"
             ],
             [
              0.8888888888888888,
              "#fdca26"
             ],
             [
              1,
              "#f0f921"
             ]
            ],
            "type": "heatmap"
           }
          ],
          "heatmapgl": [
           {
            "colorbar": {
             "outlinewidth": 0,
             "ticks": ""
            },
            "colorscale": [
             [
              0,
              "#0d0887"
             ],
             [
              0.1111111111111111,
              "#46039f"
             ],
             [
              0.2222222222222222,
              "#7201a8"
             ],
             [
              0.3333333333333333,
              "#9c179e"
             ],
             [
              0.4444444444444444,
              "#bd3786"
             ],
             [
              0.5555555555555556,
              "#d8576b"
             ],
             [
              0.6666666666666666,
              "#ed7953"
             ],
             [
              0.7777777777777778,
              "#fb9f3a"
             ],
             [
              0.8888888888888888,
              "#fdca26"
             ],
             [
              1,
              "#f0f921"
             ]
            ],
            "type": "heatmapgl"
           }
          ],
          "histogram": [
           {
            "marker": {
             "pattern": {
              "fillmode": "overlay",
              "size": 10,
              "solidity": 0.2
             }
            },
            "type": "histogram"
           }
          ],
          "histogram2d": [
           {
            "colorbar": {
             "outlinewidth": 0,
             "ticks": ""
            },
            "colorscale": [
             [
              0,
              "#0d0887"
             ],
             [
              0.1111111111111111,
              "#46039f"
             ],
             [
              0.2222222222222222,
              "#7201a8"
             ],
             [
              0.3333333333333333,
              "#9c179e"
             ],
             [
              0.4444444444444444,
              "#bd3786"
             ],
             [
              0.5555555555555556,
              "#d8576b"
             ],
             [
              0.6666666666666666,
              "#ed7953"
             ],
             [
              0.7777777777777778,
              "#fb9f3a"
             ],
             [
              0.8888888888888888,
              "#fdca26"
             ],
             [
              1,
              "#f0f921"
             ]
            ],
            "type": "histogram2d"
           }
          ],
          "histogram2dcontour": [
           {
            "colorbar": {
             "outlinewidth": 0,
             "ticks": ""
            },
            "colorscale": [
             [
              0,
              "#0d0887"
             ],
             [
              0.1111111111111111,
              "#46039f"
             ],
             [
              0.2222222222222222,
              "#7201a8"
             ],
             [
              0.3333333333333333,
              "#9c179e"
             ],
             [
              0.4444444444444444,
              "#bd3786"
             ],
             [
              0.5555555555555556,
              "#d8576b"
             ],
             [
              0.6666666666666666,
              "#ed7953"
             ],
             [
              0.7777777777777778,
              "#fb9f3a"
             ],
             [
              0.8888888888888888,
              "#fdca26"
             ],
             [
              1,
              "#f0f921"
             ]
            ],
            "type": "histogram2dcontour"
           }
          ],
          "mesh3d": [
           {
            "colorbar": {
             "outlinewidth": 0,
             "ticks": ""
            },
            "type": "mesh3d"
           }
          ],
          "parcoords": [
           {
            "line": {
             "colorbar": {
              "outlinewidth": 0,
              "ticks": ""
             }
            },
            "type": "parcoords"
           }
          ],
          "pie": [
           {
            "automargin": true,
            "type": "pie"
           }
          ],
          "scatter": [
           {
            "fillpattern": {
             "fillmode": "overlay",
             "size": 10,
             "solidity": 0.2
            },
            "type": "scatter"
           }
          ],
          "scatter3d": [
           {
            "line": {
             "colorbar": {
              "outlinewidth": 0,
              "ticks": ""
             }
            },
            "marker": {
             "colorbar": {
              "outlinewidth": 0,
              "ticks": ""
             }
            },
            "type": "scatter3d"
           }
          ],
          "scattercarpet": [
           {
            "marker": {
             "colorbar": {
              "outlinewidth": 0,
              "ticks": ""
             }
            },
            "type": "scattercarpet"
           }
          ],
          "scattergeo": [
           {
            "marker": {
             "colorbar": {
              "outlinewidth": 0,
              "ticks": ""
             }
            },
            "type": "scattergeo"
           }
          ],
          "scattergl": [
           {
            "marker": {
             "colorbar": {
              "outlinewidth": 0,
              "ticks": ""
             }
            },
            "type": "scattergl"
           }
          ],
          "scattermapbox": [
           {
            "marker": {
             "colorbar": {
              "outlinewidth": 0,
              "ticks": ""
             }
            },
            "type": "scattermapbox"
           }
          ],
          "scatterpolar": [
           {
            "marker": {
             "colorbar": {
              "outlinewidth": 0,
              "ticks": ""
             }
            },
            "type": "scatterpolar"
           }
          ],
          "scatterpolargl": [
           {
            "marker": {
             "colorbar": {
              "outlinewidth": 0,
              "ticks": ""
             }
            },
            "type": "scatterpolargl"
           }
          ],
          "scatterternary": [
           {
            "marker": {
             "colorbar": {
              "outlinewidth": 0,
              "ticks": ""
             }
            },
            "type": "scatterternary"
           }
          ],
          "surface": [
           {
            "colorbar": {
             "outlinewidth": 0,
             "ticks": ""
            },
            "colorscale": [
             [
              0,
              "#0d0887"
             ],
             [
              0.1111111111111111,
              "#46039f"
             ],
             [
              0.2222222222222222,
              "#7201a8"
             ],
             [
              0.3333333333333333,
              "#9c179e"
             ],
             [
              0.4444444444444444,
              "#bd3786"
             ],
             [
              0.5555555555555556,
              "#d8576b"
             ],
             [
              0.6666666666666666,
              "#ed7953"
             ],
             [
              0.7777777777777778,
              "#fb9f3a"
             ],
             [
              0.8888888888888888,
              "#fdca26"
             ],
             [
              1,
              "#f0f921"
             ]
            ],
            "type": "surface"
           }
          ],
          "table": [
           {
            "cells": {
             "fill": {
              "color": "#EBF0F8"
             },
             "line": {
              "color": "white"
             }
            },
            "header": {
             "fill": {
              "color": "#C8D4E3"
             },
             "line": {
              "color": "white"
             }
            },
            "type": "table"
           }
          ]
         },
         "layout": {
          "annotationdefaults": {
           "arrowcolor": "#2a3f5f",
           "arrowhead": 0,
           "arrowwidth": 1
          },
          "autotypenumbers": "strict",
          "coloraxis": {
           "colorbar": {
            "outlinewidth": 0,
            "ticks": ""
           }
          },
          "colorscale": {
           "diverging": [
            [
             0,
             "#8e0152"
            ],
            [
             0.1,
             "#c51b7d"
            ],
            [
             0.2,
             "#de77ae"
            ],
            [
             0.3,
             "#f1b6da"
            ],
            [
             0.4,
             "#fde0ef"
            ],
            [
             0.5,
             "#f7f7f7"
            ],
            [
             0.6,
             "#e6f5d0"
            ],
            [
             0.7,
             "#b8e186"
            ],
            [
             0.8,
             "#7fbc41"
            ],
            [
             0.9,
             "#4d9221"
            ],
            [
             1,
             "#276419"
            ]
           ],
           "sequential": [
            [
             0,
             "#0d0887"
            ],
            [
             0.1111111111111111,
             "#46039f"
            ],
            [
             0.2222222222222222,
             "#7201a8"
            ],
            [
             0.3333333333333333,
             "#9c179e"
            ],
            [
             0.4444444444444444,
             "#bd3786"
            ],
            [
             0.5555555555555556,
             "#d8576b"
            ],
            [
             0.6666666666666666,
             "#ed7953"
            ],
            [
             0.7777777777777778,
             "#fb9f3a"
            ],
            [
             0.8888888888888888,
             "#fdca26"
            ],
            [
             1,
             "#f0f921"
            ]
           ],
           "sequentialminus": [
            [
             0,
             "#0d0887"
            ],
            [
             0.1111111111111111,
             "#46039f"
            ],
            [
             0.2222222222222222,
             "#7201a8"
            ],
            [
             0.3333333333333333,
             "#9c179e"
            ],
            [
             0.4444444444444444,
             "#bd3786"
            ],
            [
             0.5555555555555556,
             "#d8576b"
            ],
            [
             0.6666666666666666,
             "#ed7953"
            ],
            [
             0.7777777777777778,
             "#fb9f3a"
            ],
            [
             0.8888888888888888,
             "#fdca26"
            ],
            [
             1,
             "#f0f921"
            ]
           ]
          },
          "colorway": [
           "#636efa",
           "#EF553B",
           "#00cc96",
           "#ab63fa",
           "#FFA15A",
           "#19d3f3",
           "#FF6692",
           "#B6E880",
           "#FF97FF",
           "#FECB52"
          ],
          "font": {
           "color": "#2a3f5f"
          },
          "geo": {
           "bgcolor": "white",
           "lakecolor": "white",
           "landcolor": "#E5ECF6",
           "showlakes": true,
           "showland": true,
           "subunitcolor": "white"
          },
          "hoverlabel": {
           "align": "left"
          },
          "hovermode": "closest",
          "mapbox": {
           "style": "light"
          },
          "paper_bgcolor": "white",
          "plot_bgcolor": "#E5ECF6",
          "polar": {
           "angularaxis": {
            "gridcolor": "white",
            "linecolor": "white",
            "ticks": ""
           },
           "bgcolor": "#E5ECF6",
           "radialaxis": {
            "gridcolor": "white",
            "linecolor": "white",
            "ticks": ""
           }
          },
          "scene": {
           "xaxis": {
            "backgroundcolor": "#E5ECF6",
            "gridcolor": "white",
            "gridwidth": 2,
            "linecolor": "white",
            "showbackground": true,
            "ticks": "",
            "zerolinecolor": "white"
           },
           "yaxis": {
            "backgroundcolor": "#E5ECF6",
            "gridcolor": "white",
            "gridwidth": 2,
            "linecolor": "white",
            "showbackground": true,
            "ticks": "",
            "zerolinecolor": "white"
           },
           "zaxis": {
            "backgroundcolor": "#E5ECF6",
            "gridcolor": "white",
            "gridwidth": 2,
            "linecolor": "white",
            "showbackground": true,
            "ticks": "",
            "zerolinecolor": "white"
           }
          },
          "shapedefaults": {
           "line": {
            "color": "#2a3f5f"
           }
          },
          "ternary": {
           "aaxis": {
            "gridcolor": "white",
            "linecolor": "white",
            "ticks": ""
           },
           "baxis": {
            "gridcolor": "white",
            "linecolor": "white",
            "ticks": ""
           },
           "bgcolor": "#E5ECF6",
           "caxis": {
            "gridcolor": "white",
            "linecolor": "white",
            "ticks": ""
           }
          },
          "title": {
           "x": 0.05
          },
          "xaxis": {
           "automargin": true,
           "gridcolor": "white",
           "linecolor": "white",
           "ticks": "",
           "title": {
            "standoff": 15
           },
           "zerolinecolor": "white",
           "zerolinewidth": 2
          },
          "yaxis": {
           "automargin": true,
           "gridcolor": "white",
           "linecolor": "white",
           "ticks": "",
           "title": {
            "standoff": 15
           },
           "zerolinecolor": "white",
           "zerolinewidth": 2
          }
         }
        },
        "title": {
         "text": "Speciation of Pb @ 200.0 °C, Psat, fO2 = Hem-Mt, [Pb]=0.01 m, [S]=0.01 m, [Cl]=0.5 m"
        },
        "xaxis": {
         "title": {
          "text": "pH"
         }
        },
        "yaxis": {
         "title": {
          "text": "mole proportion of Pb in species"
         }
        }
       }
      }
     },
     "metadata": {},
     "output_type": "display_data"
    },
    {
     "data": {
      "application/vnd.plotly.v1+json": {
       "config": {
        "plotlyServerURL": "https://plot.ly"
       },
       "data": [
        {
         "line": {
          "color": "rgb(0.0, 1.0, 0.0)"
         },
         "name": "Zn(HS)2(OH)-",
         "type": "scatter",
         "x": [
          2,
          2.3703703703703702,
          2.7407407407407405,
          3.111111111111111,
          3.4814814814814814,
          3.8518518518518516,
          4.222222222222222,
          4.592592592592593,
          4.962962962962963,
          5.333333333333333,
          5.703703703703703,
          6.0740740740740735,
          6.444444444444445,
          6.814814814814815,
          7.185185185185185,
          7.555555555555555,
          7.925925925925926,
          8.296296296296296,
          8.666666666666666,
          9.037037037037036,
          9.407407407407407,
          9.777777777777779,
          10.148148148148147,
          10.518518518518517,
          10.88888888888889,
          11.25925925925926,
          11.62962962962963,
          12
         ],
         "y": [
          9.964385853260531e-15,
          9.992811663514559e-15,
          9.992811665031679e-15,
          9.992811668592067e-15,
          9.992811676950332e-15,
          9.99281169658709e-15,
          9.992811742804521e-15,
          9.992811852040496e-15,
          9.992812112739809e-15,
          9.992812748743641e-15,
          9.992814376037653e-15,
          9.992818950707361e-15,
          9.992833990567074e-15,
          9.992893909262448e-15,
          9.99315521491216e-15,
          9.99393774503714e-15,
          9.994852419913698e-15,
          9.995561841160363e-15,
          9.996450502154029e-15,
          9.998112469795989e-15,
          1.0001810157260088e-14,
          1.0010538703180107e-14,
          1.0031807281498942e-14,
          1.0085170122386992e-14,
          1.0220849409689644e-14,
          1.0527033499144428e-14,
          1.1044541178740649e-14,
          1.1704802829800178e-14
         ]
        },
        {
         "line": {
          "color": "rgb(1.0, 0.0, 1.0)"
         },
         "name": "Zn(HS)2@",
         "type": "scatter",
         "x": [
          2,
          2.3703703703703702,
          2.7407407407407405,
          3.111111111111111,
          3.4814814814814814,
          3.8518518518518516,
          4.222222222222222,
          4.592592592592593,
          4.962962962962963,
          5.333333333333333,
          5.703703703703703,
          6.0740740740740735,
          6.444444444444445,
          6.814814814814815,
          7.185185185185185,
          7.555555555555555,
          7.925925925925926,
          8.296296296296296,
          8.666666666666666,
          9.037037037037036,
          9.407407407407407,
          9.777777777777779,
          10.148148148148147,
          10.518518518518517,
          10.88888888888889,
          11.25925925925926,
          11.62962962962963,
          12
         ],
         "y": [
          9.964385853260531e-15,
          9.992811663514559e-15,
          9.992811665031679e-15,
          9.992811668592067e-15,
          9.992811676950332e-15,
          9.99281169658709e-15,
          9.992811742804521e-15,
          9.992811852040496e-15,
          9.992812112739809e-15,
          9.992812748743641e-15,
          9.992814376037653e-15,
          9.992818950707361e-15,
          9.992833990567074e-15,
          9.992893909262448e-15,
          9.99315521491216e-15,
          9.99393774503714e-15,
          9.994852419913698e-15,
          9.995561841160363e-15,
          9.996450502154029e-15,
          9.998112469795989e-15,
          1.0001810157260088e-14,
          1.0010538703180107e-14,
          1.0031807281498942e-14,
          1.0085170122386992e-14,
          1.0220849409689644e-14,
          1.0527033499144428e-14,
          1.1044541178740649e-14,
          1.1704802829800178e-14
         ]
        },
        {
         "line": {
          "color": "rgb(0.0, 0.5, 1.0)"
         },
         "name": "Zn(HS)3-",
         "type": "scatter",
         "x": [
          2,
          2.3703703703703702,
          2.7407407407407405,
          3.111111111111111,
          3.4814814814814814,
          3.8518518518518516,
          4.222222222222222,
          4.592592592592593,
          4.962962962962963,
          5.333333333333333,
          5.703703703703703,
          6.0740740740740735,
          6.444444444444445,
          6.814814814814815,
          7.185185185185185,
          7.555555555555555,
          7.925925925925926,
          8.296296296296296,
          8.666666666666666,
          9.037037037037036,
          9.407407407407407,
          9.777777777777779,
          10.148148148148147,
          10.518518518518517,
          10.88888888888889,
          11.25925925925926,
          11.62962962962963,
          12
         ],
         "y": [
          9.964385853260531e-15,
          9.992811663514559e-15,
          9.992811665031679e-15,
          9.992811668592067e-15,
          9.992811676950332e-15,
          9.99281169658709e-15,
          9.992811742804521e-15,
          9.992811852040496e-15,
          9.992812112739809e-15,
          9.992812748743641e-15,
          9.992814376037653e-15,
          9.992818950707361e-15,
          9.992833990567074e-15,
          9.992893909262448e-15,
          9.99315521491216e-15,
          9.99393774503714e-15,
          9.994852419913698e-15,
          9.995561841160363e-15,
          9.996450502154029e-15,
          9.998112469795989e-15,
          1.0001810157260088e-14,
          1.0010538703180107e-14,
          1.0031807281498942e-14,
          1.0085170122386992e-14,
          1.0220849409689644e-14,
          1.0527033499144428e-14,
          1.1044541178740649e-14,
          1.1704802829800178e-14
         ]
        },
        {
         "line": {
          "color": "rgb(1.0, 0.5, 0.0)"
         },
         "name": "Zn(HS)4-2",
         "type": "scatter",
         "x": [
          2,
          2.3703703703703702,
          2.7407407407407405,
          3.111111111111111,
          3.4814814814814814,
          3.8518518518518516,
          4.222222222222222,
          4.592592592592593,
          4.962962962962963,
          5.333333333333333,
          5.703703703703703,
          6.0740740740740735,
          6.444444444444445,
          6.814814814814815,
          7.185185185185185,
          7.555555555555555,
          7.925925925925926,
          8.296296296296296,
          8.666666666666666,
          9.037037037037036,
          9.407407407407407,
          9.777777777777779,
          10.148148148148147,
          10.518518518518517,
          10.88888888888889,
          11.25925925925926,
          11.62962962962963,
          12
         ],
         "y": [
          1.236169022039648,
          0.2499999999999725,
          0.24999999999997247,
          0.24999999999997255,
          0.24999999999997255,
          0.2499999999999725,
          0.2499999999999725,
          0.24999999999997255,
          0.2499999999999725,
          0.2499999999999725,
          0.2499999999999725,
          0.2499999999999725,
          0.2499999999999725,
          0.2499999999999725,
          0.2499999999999725,
          0.24999999999997247,
          0.2499999999999725,
          0.2499999999999725,
          0.2499999999999725,
          0.249999999999837,
          0.24999999958331603,
          0.24999913119338377,
          0.24924551829916197,
          0.24999999826461416,
          0.24947197329536164,
          0.24928038736925914,
          0.2499998827984593,
          0.24999999999377542
         ]
        },
        {
         "line": {
          "color": "rgb(0.5, 0.75, 0.5)"
         },
         "name": "Zn+2",
         "type": "scatter",
         "x": [
          2,
          2.3703703703703702,
          2.7407407407407405,
          3.111111111111111,
          3.4814814814814814,
          3.8518518518518516,
          4.222222222222222,
          4.592592592592593,
          4.962962962962963,
          5.333333333333333,
          5.703703703703703,
          6.0740740740740735,
          6.444444444444445,
          6.814814814814815,
          7.185185185185185,
          7.555555555555555,
          7.925925925925926,
          8.296296296296296,
          8.666666666666666,
          9.037037037037036,
          9.407407407407407,
          9.777777777777779,
          10.148148148148147,
          10.518518518518517,
          10.88888888888889,
          11.25925925925926,
          11.62962962962963,
          12
         ],
         "y": [
          3.9521252636738633,
          0.0075356116439105145,
          0.007535987129708409,
          0.007536139095017751,
          0.007536184897495544,
          0.00753615977965474,
          0.007536043585046685,
          0.0075357424067117144,
          0.007535000725230939,
          0.007533119527397761,
          0.007527949349898447,
          0.007511640023450856,
          0.00745020753084006,
          0.007180934295152842,
          0.006010437236913354,
          0.002964274374879667,
          0.000608390641418939,
          0.00007133099192354658,
          0.000006357444834874725,
          4.644498895173051e-7,
          2.788503063379572e-8,
          1.3710855204384855e-9,
          5.730995808413583e-11,
          2.1858982277098635e-12,
          8.282766837525052e-14,
          1.0527033499144428e-14,
          1.1044541178740649e-14,
          1.1704802829800178e-14
         ]
        },
        {
         "line": {
          "color": "rgb(0.3985148503731565, 0.06871562412766008, 0.5698903026276297)"
         },
         "name": "ZnCl+",
         "type": "scatter",
         "x": [
          2,
          2.3703703703703702,
          2.7407407407407405,
          3.111111111111111,
          3.4814814814814814,
          3.8518518518518516,
          4.222222222222222,
          4.592592592592593,
          4.962962962962963,
          5.333333333333333,
          5.703703703703703,
          6.0740740740740735,
          6.444444444444445,
          6.814814814814815,
          7.185185185185185,
          7.555555555555555,
          7.925925925925926,
          8.296296296296296,
          8.666666666666666,
          9.037037037037036,
          9.407407407407407,
          9.777777777777779,
          10.148148148148147,
          10.518518518518517,
          10.88888888888889,
          11.25925925925926,
          11.62962962962963,
          12
         ],
         "y": [
          9.964385853260531e-15,
          0.6679142320978281,
          0.6679168404844636,
          0.6679172385977299,
          0.667915731953178,
          0.6679111447515224,
          0.6678998673946946,
          0.6678728239887991,
          0.6678071158021751,
          0.6676409107484128,
          0.6671846598656038,
          0.6657471456203724,
          0.6603385525430293,
          0.63664021278906,
          0.5334667367435493,
          0.26371160724941967,
          0.05412273106472543,
          0.006325732829623191,
          0.0005605904687318314,
          0.000040511438959025215,
          0.0000023777112847211532,
          1.1128958044545943e-7,
          4.170489820770528e-9,
          1.2238263686853586e-10,
          2.5799808332073597e-12,
          3.3730540970938335e-14,
          1.1044541178740649e-14,
          1.1704802829800178e-14
         ]
        },
        {
         "line": {
          "color": "rgb(0.8686195996549393, 0.007397059381623605, 0.10847872199084851)"
         },
         "name": "ZnCl2@",
         "type": "scatter",
         "x": [
          2,
          2.3703703703703702,
          2.7407407407407405,
          3.111111111111111,
          3.4814814814814814,
          3.8518518518518516,
          4.222222222222222,
          4.592592592592593,
          4.962962962962963,
          5.333333333333333,
          5.703703703703703,
          6.0740740740740735,
          6.444444444444445,
          6.814814814814815,
          7.185185185185185,
          7.555555555555555,
          7.925925925925926,
          8.296296296296296,
          8.666666666666666,
          9.037037037037036,
          9.407407407407407,
          9.777777777777779,
          10.148148148148147,
          10.518518518518517,
          10.88888888888889,
          11.25925925925926,
          11.62962962962963,
          12
         ],
         "y": [
          9.964385853260531e-15,
          0.06819139271159658,
          0.0681885518241112,
          0.06818726903596313,
          0.0681865531104456,
          0.06818584979750392,
          0.06818460914514506,
          0.06818183605049712,
          0.06817518592899319,
          0.06815840546255604,
          0.06811236705889533,
          0.06796735382320741,
          0.06742181622818055,
          0.06503044328376294,
          0.05459352938255523,
          0.027112797013854606,
          0.0055807641566512425,
          0.0006519789453911788,
          0.000057668935128360696,
          0.00000415174108812323,
          2.417454776409284e-7,
          1.1121115306320359e-8,
          4.0123820691150885e-10,
          1.0822580028879563e-11,
          1.9326533726464766e-13,
          1.0527033499144428e-14,
          1.1044541178740649e-14,
          1.1704802829800178e-14
         ]
        },
        {
         "line": {
          "color": "rgb(0.18642021735798175, 0.5095981449860165, 0.02969858416855342)"
         },
         "name": "ZnCl3-",
         "type": "scatter",
         "x": [
          2,
          2.3703703703703702,
          2.7407407407407405,
          3.111111111111111,
          3.4814814814814814,
          3.8518518518518516,
          4.222222222222222,
          4.592592592592593,
          4.962962962962963,
          5.333333333333333,
          5.703703703703703,
          6.0740740740740735,
          6.444444444444445,
          6.814814814814815,
          7.185185185185185,
          7.555555555555555,
          7.925925925925926,
          8.296296296296296,
          8.666666666666666,
          9.037037037037036,
          9.407407407407407,
          9.777777777777779,
          10.148148148148147,
          10.518518518518517,
          10.88888888888889,
          11.25925925925926,
          11.62962962962963,
          12
         ],
         "y": [
          9.964385853260531e-15,
          0.0063584542517822595,
          0.00635789473781363,
          0.006357649692358611,
          0.0063575297660402,
          0.0063574422029554515,
          0.0063573187514356306,
          0.006357060678906226,
          0.006356450059901883,
          0.006354912803010768,
          0.0063506958254283975,
          0.006337408065349559,
          0.00628739008747308,
          0.006067906034122752,
          0.005106827328155893,
          0.002552883202880771,
          0.0005282351857437069,
          0.00006180720466297298,
          0.000005471653002909355,
          3.9448527366700233e-7,
          2.3038707944732908e-8,
          1.0668936871444256e-9,
          3.908918009189579e-11,
          1.1033550984528666e-12,
          2.2430056301273617e-14,
          1.0527033499144428e-14,
          1.1044541178740649e-14,
          1.1704802829800178e-14
         ]
        },
        {
         "line": {
          "color": "rgb(0.801731629607197, 0.521451657956918, 0.9861280451648664)"
         },
         "name": "ZnO2-2",
         "type": "scatter",
         "x": [
          2,
          2.3703703703703702,
          2.7407407407407405,
          3.111111111111111,
          3.4814814814814814,
          3.8518518518518516,
          4.222222222222222,
          4.592592592592593,
          4.962962962962963,
          5.333333333333333,
          5.703703703703703,
          6.0740740740740735,
          6.444444444444445,
          6.814814814814815,
          7.185185185185185,
          7.555555555555555,
          7.925925925925926,
          8.296296296296296,
          8.666666666666666,
          9.037037037037036,
          9.407407407407407,
          9.777777777777779,
          10.148148148148147,
          10.518518518518517,
          10.88888888888889,
          11.25925925925926,
          11.62962962962963,
          12
         ],
         "y": [
          9.964385853260531e-15,
          9.992811663514559e-15,
          9.992811665031679e-15,
          9.992811668592067e-15,
          9.992811676950332e-15,
          9.99281169658709e-15,
          9.992811742804521e-15,
          9.992811852040496e-15,
          1.55747301161561e-13,
          4.718385162254225e-12,
          1.4288157016806515e-10,
          4.320304972822597e-9,
          1.2984493889627573e-7,
          0.0000037922891678347873,
          0.0000961681015792886,
          0.001436452158423026,
          0.008927982402523233,
          0.031702495904226614,
          0.08555880813381431,
          0.1891532789870267,
          0.34313753245736045,
          0.5079307959623413,
          0.6336476844073036,
          0.7052767377133797,
          0.7384624947991262,
          0.7489049026147345,
          0.749856815395291,
          0.7499924056903653
         ]
        },
        {
         "line": {
          "color": "rgb(0.8775663610937768, 0.9983443761079304, 0.06895380848322341)"
         },
         "name": "ZnO2H-",
         "type": "scatter",
         "x": [
          2,
          2.3703703703703702,
          2.7407407407407405,
          3.111111111111111,
          3.4814814814814814,
          3.8518518518518516,
          4.222222222222222,
          4.592592592592593,
          4.962962962962963,
          5.333333333333333,
          5.703703703703703,
          6.0740740740740735,
          6.444444444444445,
          6.814814814814815,
          7.185185185185185,
          7.555555555555555,
          7.925925925925926,
          8.296296296296296,
          8.666666666666666,
          9.037037037037036,
          9.407407407407407,
          9.777777777777779,
          10.148148148148147,
          10.518518518518517,
          10.88888888888889,
          11.25925925925926,
          11.62962962962963,
          12
         ],
         "y": [
          9.964385853260531e-15,
          9.992811663514559e-15,
          9.992811665031679e-15,
          1.4391453628842483e-14,
          1.8587423335772644e-13,
          2.4006516942314828e-12,
          3.100513471577378e-11,
          4.0043057005088643e-10,
          5.171244944706137e-9,
          6.677233425656024e-8,
          8.617997706550221e-7,
          0.000011106235684002544,
          0.00014226025632620279,
          0.0017705056659514673,
          0.019118487916467926,
          0.12136777808028087,
          0.32035711741232775,
          0.48328351072112363,
          0.5534063983854869,
          0.5170590984201299,
          0.39278538209405467,
          0.23846978266245986,
          0.1163761169703121,
          0.04461071261674723,
          0.012054153310315136,
          0.00181413990730649,
          0.00014328820426930984,
          0.000007594102084581679
         ]
        },
        {
         "line": {
          "color": "rgb(0.002886299111698243, 0.9764705630459156, 0.7954539788028386)"
         },
         "name": "ZnO@",
         "type": "scatter",
         "x": [
          2,
          2.3703703703703702,
          2.7407407407407405,
          3.111111111111111,
          3.4814814814814814,
          3.8518518518518516,
          4.222222222222222,
          4.592592592592593,
          4.962962962962963,
          5.333333333333333,
          5.703703703703703,
          6.0740740740740735,
          6.444444444444445,
          6.814814814814815,
          7.185185185185185,
          7.555555555555555,
          7.925925925925926,
          8.296296296296296,
          8.666666666666666,
          9.037037037037036,
          9.407407407407407,
          9.777777777777779,
          10.148148148148147,
          10.518518518518517,
          10.88888888888889,
          11.25925925925926,
          11.62962962962963,
          12
         ],
         "y": [
          9.964385853260531e-15,
          3.4045428697103875e-11,
          1.8742328408952797e-10,
          1.0317489577235423e-9,
          5.6796010052654236e-9,
          3.1264915234720094e-8,
          1.7210411945372466e-7,
          9.473586331491035e-7,
          0.000005214489449886266,
          0.000028697400639213855,
          0.00015786331606354597,
          0.0008670999598189573,
          0.004733782489832333,
          0.025108630666028718,
          0.11552706241065341,
          0.3123090459560851,
          0.3509820579039141,
          0.22546608896274678,
          0.10989775674696402,
          0.043656058185556165,
          0.014062541676720745,
          0.003598855578876414,
          0.0007305594619889938,
          0.0001125431611089617,
          0.000011378191012274865,
          5.700973048641026e-7,
          1.3601728227377176e-8,
          2.1368118435222234e-10
         ]
        },
        {
         "line": {
          "color": "rgb(0.0, 0.0, 1.0)"
         },
         "name": "ZnOH+",
         "type": "scatter",
         "x": [
          2,
          2.3703703703703702,
          2.7407407407407405,
          3.111111111111111,
          3.4814814814814814,
          3.8518518518518516,
          4.222222222222222,
          4.592592592592593,
          4.962962962962963,
          5.333333333333333,
          5.703703703703703,
          6.0740740740740735,
          6.444444444444445,
          6.814814814814815,
          7.185185185185185,
          7.555555555555555,
          7.925925925925926,
          8.296296296296296,
          8.666666666666666,
          9.037037037037036,
          9.407407407407407,
          9.777777777777779,
          10.148148148148147,
          10.518518518518517,
          10.88888888888889,
          11.25925925925926,
          11.62962962962963,
          12
         ],
         "y": [
          9.964385853260531e-15,
          3.0926081451269067e-7,
          7.256364568443555e-7,
          0.0000017025471548784769,
          0.000003994593041226177,
          0.00000937220103518795,
          0.00002198898854050981,
          0.00005158911600950881,
          0.00012102782284560093,
          0.0002838872809282559,
          0.0006656026414559977,
          0.0015582419518090024,
          0.0036258610193770713,
          0.008197574976751002,
          0.016080750880123017,
          0.01854516196417367,
          0.008892721232693093,
          0.002437054440299712,
          0.0005069482320342427,
          0.0000860422922097794,
          0.000011873808017296741,
          0.0000013097542336606084,
          1.1619307580247956e-7,
          8.107625279229353e-9,
          4.0127552305007557e-10,
          1.129768055369404e-11,
          1.748502550131571e-13,
          1.1704802829800178e-14
         ]
        }
       ],
       "layout": {
        "template": {
         "data": {
          "bar": [
           {
            "error_x": {
             "color": "#2a3f5f"
            },
            "error_y": {
             "color": "#2a3f5f"
            },
            "marker": {
             "line": {
              "color": "#E5ECF6",
              "width": 0.5
             },
             "pattern": {
              "fillmode": "overlay",
              "size": 10,
              "solidity": 0.2
             }
            },
            "type": "bar"
           }
          ],
          "barpolar": [
           {
            "marker": {
             "line": {
              "color": "#E5ECF6",
              "width": 0.5
             },
             "pattern": {
              "fillmode": "overlay",
              "size": 10,
              "solidity": 0.2
             }
            },
            "type": "barpolar"
           }
          ],
          "carpet": [
           {
            "aaxis": {
             "endlinecolor": "#2a3f5f",
             "gridcolor": "white",
             "linecolor": "white",
             "minorgridcolor": "white",
             "startlinecolor": "#2a3f5f"
            },
            "baxis": {
             "endlinecolor": "#2a3f5f",
             "gridcolor": "white",
             "linecolor": "white",
             "minorgridcolor": "white",
             "startlinecolor": "#2a3f5f"
            },
            "type": "carpet"
           }
          ],
          "choropleth": [
           {
            "colorbar": {
             "outlinewidth": 0,
             "ticks": ""
            },
            "type": "choropleth"
           }
          ],
          "contour": [
           {
            "colorbar": {
             "outlinewidth": 0,
             "ticks": ""
            },
            "colorscale": [
             [
              0,
              "#0d0887"
             ],
             [
              0.1111111111111111,
              "#46039f"
             ],
             [
              0.2222222222222222,
              "#7201a8"
             ],
             [
              0.3333333333333333,
              "#9c179e"
             ],
             [
              0.4444444444444444,
              "#bd3786"
             ],
             [
              0.5555555555555556,
              "#d8576b"
             ],
             [
              0.6666666666666666,
              "#ed7953"
             ],
             [
              0.7777777777777778,
              "#fb9f3a"
             ],
             [
              0.8888888888888888,
              "#fdca26"
             ],
             [
              1,
              "#f0f921"
             ]
            ],
            "type": "contour"
           }
          ],
          "contourcarpet": [
           {
            "colorbar": {
             "outlinewidth": 0,
             "ticks": ""
            },
            "type": "contourcarpet"
           }
          ],
          "heatmap": [
           {
            "colorbar": {
             "outlinewidth": 0,
             "ticks": ""
            },
            "colorscale": [
             [
              0,
              "#0d0887"
             ],
             [
              0.1111111111111111,
              "#46039f"
             ],
             [
              0.2222222222222222,
              "#7201a8"
             ],
             [
              0.3333333333333333,
              "#9c179e"
             ],
             [
              0.4444444444444444,
              "#bd3786"
             ],
             [
              0.5555555555555556,
              "#d8576b"
             ],
             [
              0.6666666666666666,
              "#ed7953"
             ],
             [
              0.7777777777777778,
              "#fb9f3a"
             ],
             [
              0.8888888888888888,
              "#fdca26"
             ],
             [
              1,
              "#f0f921"
             ]
            ],
            "type": "heatmap"
           }
          ],
          "heatmapgl": [
           {
            "colorbar": {
             "outlinewidth": 0,
             "ticks": ""
            },
            "colorscale": [
             [
              0,
              "#0d0887"
             ],
             [
              0.1111111111111111,
              "#46039f"
             ],
             [
              0.2222222222222222,
              "#7201a8"
             ],
             [
              0.3333333333333333,
              "#9c179e"
             ],
             [
              0.4444444444444444,
              "#bd3786"
             ],
             [
              0.5555555555555556,
              "#d8576b"
             ],
             [
              0.6666666666666666,
              "#ed7953"
             ],
             [
              0.7777777777777778,
              "#fb9f3a"
             ],
             [
              0.8888888888888888,
              "#fdca26"
             ],
             [
              1,
              "#f0f921"
             ]
            ],
            "type": "heatmapgl"
           }
          ],
          "histogram": [
           {
            "marker": {
             "pattern": {
              "fillmode": "overlay",
              "size": 10,
              "solidity": 0.2
             }
            },
            "type": "histogram"
           }
          ],
          "histogram2d": [
           {
            "colorbar": {
             "outlinewidth": 0,
             "ticks": ""
            },
            "colorscale": [
             [
              0,
              "#0d0887"
             ],
             [
              0.1111111111111111,
              "#46039f"
             ],
             [
              0.2222222222222222,
              "#7201a8"
             ],
             [
              0.3333333333333333,
              "#9c179e"
             ],
             [
              0.4444444444444444,
              "#bd3786"
             ],
             [
              0.5555555555555556,
              "#d8576b"
             ],
             [
              0.6666666666666666,
              "#ed7953"
             ],
             [
              0.7777777777777778,
              "#fb9f3a"
             ],
             [
              0.8888888888888888,
              "#fdca26"
             ],
             [
              1,
              "#f0f921"
             ]
            ],
            "type": "histogram2d"
           }
          ],
          "histogram2dcontour": [
           {
            "colorbar": {
             "outlinewidth": 0,
             "ticks": ""
            },
            "colorscale": [
             [
              0,
              "#0d0887"
             ],
             [
              0.1111111111111111,
              "#46039f"
             ],
             [
              0.2222222222222222,
              "#7201a8"
             ],
             [
              0.3333333333333333,
              "#9c179e"
             ],
             [
              0.4444444444444444,
              "#bd3786"
             ],
             [
              0.5555555555555556,
              "#d8576b"
             ],
             [
              0.6666666666666666,
              "#ed7953"
             ],
             [
              0.7777777777777778,
              "#fb9f3a"
             ],
             [
              0.8888888888888888,
              "#fdca26"
             ],
             [
              1,
              "#f0f921"
             ]
            ],
            "type": "histogram2dcontour"
           }
          ],
          "mesh3d": [
           {
            "colorbar": {
             "outlinewidth": 0,
             "ticks": ""
            },
            "type": "mesh3d"
           }
          ],
          "parcoords": [
           {
            "line": {
             "colorbar": {
              "outlinewidth": 0,
              "ticks": ""
             }
            },
            "type": "parcoords"
           }
          ],
          "pie": [
           {
            "automargin": true,
            "type": "pie"
           }
          ],
          "scatter": [
           {
            "fillpattern": {
             "fillmode": "overlay",
             "size": 10,
             "solidity": 0.2
            },
            "type": "scatter"
           }
          ],
          "scatter3d": [
           {
            "line": {
             "colorbar": {
              "outlinewidth": 0,
              "ticks": ""
             }
            },
            "marker": {
             "colorbar": {
              "outlinewidth": 0,
              "ticks": ""
             }
            },
            "type": "scatter3d"
           }
          ],
          "scattercarpet": [
           {
            "marker": {
             "colorbar": {
              "outlinewidth": 0,
              "ticks": ""
             }
            },
            "type": "scattercarpet"
           }
          ],
          "scattergeo": [
           {
            "marker": {
             "colorbar": {
              "outlinewidth": 0,
              "ticks": ""
             }
            },
            "type": "scattergeo"
           }
          ],
          "scattergl": [
           {
            "marker": {
             "colorbar": {
              "outlinewidth": 0,
              "ticks": ""
             }
            },
            "type": "scattergl"
           }
          ],
          "scattermapbox": [
           {
            "marker": {
             "colorbar": {
              "outlinewidth": 0,
              "ticks": ""
             }
            },
            "type": "scattermapbox"
           }
          ],
          "scatterpolar": [
           {
            "marker": {
             "colorbar": {
              "outlinewidth": 0,
              "ticks": ""
             }
            },
            "type": "scatterpolar"
           }
          ],
          "scatterpolargl": [
           {
            "marker": {
             "colorbar": {
              "outlinewidth": 0,
              "ticks": ""
             }
            },
            "type": "scatterpolargl"
           }
          ],
          "scatterternary": [
           {
            "marker": {
             "colorbar": {
              "outlinewidth": 0,
              "ticks": ""
             }
            },
            "type": "scatterternary"
           }
          ],
          "surface": [
           {
            "colorbar": {
             "outlinewidth": 0,
             "ticks": ""
            },
            "colorscale": [
             [
              0,
              "#0d0887"
             ],
             [
              0.1111111111111111,
              "#46039f"
             ],
             [
              0.2222222222222222,
              "#7201a8"
             ],
             [
              0.3333333333333333,
              "#9c179e"
             ],
             [
              0.4444444444444444,
              "#bd3786"
             ],
             [
              0.5555555555555556,
              "#d8576b"
             ],
             [
              0.6666666666666666,
              "#ed7953"
             ],
             [
              0.7777777777777778,
              "#fb9f3a"
             ],
             [
              0.8888888888888888,
              "#fdca26"
             ],
             [
              1,
              "#f0f921"
             ]
            ],
            "type": "surface"
           }
          ],
          "table": [
           {
            "cells": {
             "fill": {
              "color": "#EBF0F8"
             },
             "line": {
              "color": "white"
             }
            },
            "header": {
             "fill": {
              "color": "#C8D4E3"
             },
             "line": {
              "color": "white"
             }
            },
            "type": "table"
           }
          ]
         },
         "layout": {
          "annotationdefaults": {
           "arrowcolor": "#2a3f5f",
           "arrowhead": 0,
           "arrowwidth": 1
          },
          "autotypenumbers": "strict",
          "coloraxis": {
           "colorbar": {
            "outlinewidth": 0,
            "ticks": ""
           }
          },
          "colorscale": {
           "diverging": [
            [
             0,
             "#8e0152"
            ],
            [
             0.1,
             "#c51b7d"
            ],
            [
             0.2,
             "#de77ae"
            ],
            [
             0.3,
             "#f1b6da"
            ],
            [
             0.4,
             "#fde0ef"
            ],
            [
             0.5,
             "#f7f7f7"
            ],
            [
             0.6,
             "#e6f5d0"
            ],
            [
             0.7,
             "#b8e186"
            ],
            [
             0.8,
             "#7fbc41"
            ],
            [
             0.9,
             "#4d9221"
            ],
            [
             1,
             "#276419"
            ]
           ],
           "sequential": [
            [
             0,
             "#0d0887"
            ],
            [
             0.1111111111111111,
             "#46039f"
            ],
            [
             0.2222222222222222,
             "#7201a8"
            ],
            [
             0.3333333333333333,
             "#9c179e"
            ],
            [
             0.4444444444444444,
             "#bd3786"
            ],
            [
             0.5555555555555556,
             "#d8576b"
            ],
            [
             0.6666666666666666,
             "#ed7953"
            ],
            [
             0.7777777777777778,
             "#fb9f3a"
            ],
            [
             0.8888888888888888,
             "#fdca26"
            ],
            [
             1,
             "#f0f921"
            ]
           ],
           "sequentialminus": [
            [
             0,
             "#0d0887"
            ],
            [
             0.1111111111111111,
             "#46039f"
            ],
            [
             0.2222222222222222,
             "#7201a8"
            ],
            [
             0.3333333333333333,
             "#9c179e"
            ],
            [
             0.4444444444444444,
             "#bd3786"
            ],
            [
             0.5555555555555556,
             "#d8576b"
            ],
            [
             0.6666666666666666,
             "#ed7953"
            ],
            [
             0.7777777777777778,
             "#fb9f3a"
            ],
            [
             0.8888888888888888,
             "#fdca26"
            ],
            [
             1,
             "#f0f921"
            ]
           ]
          },
          "colorway": [
           "#636efa",
           "#EF553B",
           "#00cc96",
           "#ab63fa",
           "#FFA15A",
           "#19d3f3",
           "#FF6692",
           "#B6E880",
           "#FF97FF",
           "#FECB52"
          ],
          "font": {
           "color": "#2a3f5f"
          },
          "geo": {
           "bgcolor": "white",
           "lakecolor": "white",
           "landcolor": "#E5ECF6",
           "showlakes": true,
           "showland": true,
           "subunitcolor": "white"
          },
          "hoverlabel": {
           "align": "left"
          },
          "hovermode": "closest",
          "mapbox": {
           "style": "light"
          },
          "paper_bgcolor": "white",
          "plot_bgcolor": "#E5ECF6",
          "polar": {
           "angularaxis": {
            "gridcolor": "white",
            "linecolor": "white",
            "ticks": ""
           },
           "bgcolor": "#E5ECF6",
           "radialaxis": {
            "gridcolor": "white",
            "linecolor": "white",
            "ticks": ""
           }
          },
          "scene": {
           "xaxis": {
            "backgroundcolor": "#E5ECF6",
            "gridcolor": "white",
            "gridwidth": 2,
            "linecolor": "white",
            "showbackground": true,
            "ticks": "",
            "zerolinecolor": "white"
           },
           "yaxis": {
            "backgroundcolor": "#E5ECF6",
            "gridcolor": "white",
            "gridwidth": 2,
            "linecolor": "white",
            "showbackground": true,
            "ticks": "",
            "zerolinecolor": "white"
           },
           "zaxis": {
            "backgroundcolor": "#E5ECF6",
            "gridcolor": "white",
            "gridwidth": 2,
            "linecolor": "white",
            "showbackground": true,
            "ticks": "",
            "zerolinecolor": "white"
           }
          },
          "shapedefaults": {
           "line": {
            "color": "#2a3f5f"
           }
          },
          "ternary": {
           "aaxis": {
            "gridcolor": "white",
            "linecolor": "white",
            "ticks": ""
           },
           "baxis": {
            "gridcolor": "white",
            "linecolor": "white",
            "ticks": ""
           },
           "bgcolor": "#E5ECF6",
           "caxis": {
            "gridcolor": "white",
            "linecolor": "white",
            "ticks": ""
           }
          },
          "title": {
           "x": 0.05
          },
          "xaxis": {
           "automargin": true,
           "gridcolor": "white",
           "linecolor": "white",
           "ticks": "",
           "title": {
            "standoff": 15
           },
           "zerolinecolor": "white",
           "zerolinewidth": 2
          },
          "yaxis": {
           "automargin": true,
           "gridcolor": "white",
           "linecolor": "white",
           "ticks": "",
           "title": {
            "standoff": 15
           },
           "zerolinecolor": "white",
           "zerolinewidth": 2
          }
         }
        },
        "title": {
         "text": "Speciation of Zn @ 200.0 °C, Psat, fO2 = Hem-Mt, [Zn]=0.01 m, [S]=0.01 m, [Cl]=0.5 m"
        },
        "xaxis": {
         "title": {
          "text": "pH"
         }
        },
        "yaxis": {
         "title": {
          "text": "mole proportion of Zn in species"
         }
        }
       }
      }
     },
     "metadata": {},
     "output_type": "display_data"
    }
   ],
   "source": [
    "for metal in metals: \n",
    "    fig = go.Figure()\n",
    "    for specie in species_amounts[metal]: \n",
    "        fig.add_trace(go.Scatter(\n",
    "            x=pH_values, \n",
    "            y=species_amounts[metal][specie], \n",
    "            line_color=species_colors[metal][specie], \n",
    "            name=specie))\n",
    "\n",
    "    # format layout\n",
    "    fig.update_layout(title=f\"Speciation of {metal} @ {temperature-273.15} °C, Psat, fO2 = Hem-Mt, [{metal}]={metal_concentration} m, [S]={S_concentration} m, [Cl]={Cl_concentration} m\",\n",
    "                    xaxis_title=\"pH\", \n",
    "                    yaxis_title=f\"mole proportion of {metal} in species\"\n",
    "    )\n",
    "    fig.show()"
   ]
  },
  {
   "cell_type": "code",
   "execution_count": null,
   "metadata": {},
   "outputs": [],
   "source": []
  },
  {
   "cell_type": "code",
   "execution_count": null,
   "metadata": {},
   "outputs": [],
   "source": []
  }
 ],
 "metadata": {
  "kernelspec": {
   "display_name": "Python 3.9.12 ('sed-hosted-Cu-Co-deposit-thermodynamic-modelling')",
   "language": "python",
   "name": "python3"
  },
  "language_info": {
   "codemirror_mode": {
    "name": "ipython",
    "version": 3
   },
   "file_extension": ".py",
   "mimetype": "text/x-python",
   "name": "python",
   "nbconvert_exporter": "python",
   "pygments_lexer": "ipython3",
   "version": "3.9.12"
  },
  "orig_nbformat": 4,
  "vscode": {
   "interpreter": {
    "hash": "6e0a80d6f337eb1f1c2e8bae1c47fb2deeecc79a6b1a78d834e2ef444d81a8c2"
   }
  }
 },
 "nbformat": 4,
 "nbformat_minor": 2
}
