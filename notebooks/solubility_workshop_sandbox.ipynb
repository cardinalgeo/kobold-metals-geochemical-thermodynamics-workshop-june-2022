{
 "cells": [
  {
   "cell_type": "markdown",
   "metadata": {},
   "source": [
    "# Thermodynamic controls on the geochemistry of ore-forming processes"
   ]
  },
  {
   "cell_type": "markdown",
   "metadata": {},
   "source": [
    "Import...\n",
    "- `reaktoro` (website, [documentation](https://reaktoro.org/api/), GitHub repo), a Python/C++ package for modelling chemically reactive systems, and \n",
    "- `thermofun` (website, Github repo), a Python package for calculating thermodynamic properties of substances at varied P-T-X conditions. \n",
    "\n"
   ]
  },
  {
   "cell_type": "code",
   "execution_count": 1,
   "metadata": {},
   "outputs": [],
   "source": [
    "import reaktoro as rkt\n",
    "import thermofun as fun\n",
    "import numpy as np\n",
    "from matplotlib import pyplot as plt"
   ]
  },
  {
   "cell_type": "markdown",
   "metadata": {},
   "source": [
    "Create a database object containing all of the thermodynamic and compositional data for each substance. "
   ]
  },
  {
   "cell_type": "code",
   "execution_count": 2,
   "metadata": {},
   "outputs": [],
   "source": [
    "database = fun.Database(\"../data/raw/thermodynamic_data/mines19-thermofun.json\");\n",
    "db = rkt.ThermoFunDatabase(database)\n",
    "# db = rkt.SupcrtDatabase() "
   ]
  },
  {
   "cell_type": "markdown",
   "metadata": {},
   "source": [
    "How much reductant is required to consume metals? "
   ]
  },
  {
   "cell_type": "code",
   "execution_count": 91,
   "metadata": {},
   "outputs": [],
   "source": [
    "aqueous_phase = rkt.AqueousPhase([\"H2O@\", \"H+\", \"OH-\", \n",
    "                                \"Na+\", \"NaOH@\", \"NaCl@\", \"HCl@\", \"Cl-\", \n",
    "                                \"H2S@\", \"HS-\", \"HSO4-\", \"SO4-2\", \n",
    "                                \"FeCl2@\"\n",
    "                                ])\n",
    "mineral_phases = rkt.MineralPhases([\"Pyrite\", \"Graphite\"])\n",
    "\n",
    "phases = rkt.Phases(db)\n",
    "\n",
    "phases.add(aqueous_phase)\n",
    "# phases.add(mineral_phases)\n",
    "\n",
    "system = rkt.ChemicalSystem(phases)"
   ]
  },
  {
   "cell_type": "code",
   "execution_count": 92,
   "metadata": {},
   "outputs": [],
   "source": [
    "T = 250 # [°C]\n",
    "P = rkt.waterSaturationPressureWagnerPruss(T+273.15) # [bar]"
   ]
  },
  {
   "cell_type": "markdown",
   "metadata": {},
   "source": [
    "- add Fe2O3 and NaCl until 1000 ppm Fe and 3 wt % NaCl"
   ]
  },
  {
   "cell_type": "code",
   "execution_count": 93,
   "metadata": {},
   "outputs": [],
   "source": [
    "specs = rkt.EquilibriumSpecs(system)\n",
    "specs.temperature()\n",
    "specs.pressure()"
   ]
  },
  {
   "cell_type": "code",
   "execution_count": 94,
   "metadata": {},
   "outputs": [],
   "source": [
    "def add_element_concentration_constraint(specs, element): \n",
    "    def get_element_concentration(props, element):\n",
    "        element_concentration = 1e6 * props.elementMassInPhase(element, \"AqueousPhase\") / props.phaseProps(\"AqueousPhase\").mass() # [ppm]\n",
    "\n",
    "        return element_concentration\n",
    "\n",
    "    idx_element_conc = specs.addInput(f\"{element} concentration\")  # add symbol for a new input condition to the equilibrium problem\n",
    "\n",
    "    element_conc_constraint = rkt.ConstraintEquation()\n",
    "    element_conc_constraint.id = f\"{element} concentration\"  # give some identification name to the constraint\n",
    "    element_conc_constraint.fn = lambda props, w: get_element_concentration(props, element) - w[idx_element_conc]  # the residual function \n",
    "\n",
    "    specs.addConstraint(element_conc_constraint)\n",
    "\n",
    "    return specs"
   ]
  },
  {
   "cell_type": "code",
   "execution_count": 96,
   "metadata": {},
   "outputs": [],
   "source": [
    "add_element_concentration_constraint(specs, \"Fe\")\n",
    "specs.openTo(\"FeCl2\")"
   ]
  },
  {
   "cell_type": "code",
   "execution_count": 97,
   "metadata": {},
   "outputs": [],
   "source": [
    "def add_salinity_constraint(specs): \n",
    "\n",
    "    def get_NaCl_concentration(props):\n",
    "        NaCl_concentration = 100 * (props.elementMassInPhase(\"Na\", \"AqueousPhase\") + props.elementMassInPhase(\"Cl\", \"AqueousPhase\")) / props.phaseProps(\"AqueousPhase\").mass() # [wt %]\n",
    "\n",
    "        return NaCl_concentration\n",
    "\n",
    "    idx_salinity = specs.addInput(\"salinity\")  # add symbol for a new input condition to the equilibrium problem\n",
    "\n",
    "    salinity_constraint = rkt.ConstraintEquation()\n",
    "    salinity_constraint.id = \"salinity\"  # give some identification name to the constraint\n",
    "    salinity_constraint.fn = lambda props, w: get_NaCl_concentration(props) - w[idx_salinity]  # the residual function \n",
    "\n",
    "    specs.addConstraint(salinity_constraint)\n",
    "\n",
    "    return specs"
   ]
  },
  {
   "cell_type": "code",
   "execution_count": 98,
   "metadata": {},
   "outputs": [],
   "source": [
    "add_salinity_constraint(specs)\n",
    "specs.openTo(\"NaCl\")"
   ]
  },
  {
   "cell_type": "code",
   "execution_count": 100,
   "metadata": {},
   "outputs": [
    {
     "name": "stdout",
     "output_type": "stream",
     "text": [
      "converged: True\n"
     ]
    },
    {
     "data": {
      "text/plain": [
       "+---------------------+-------------+------+\n",
       "| Property            |       Value | Unit |\n",
       "+---------------------+-------------+------+\n",
       "| Temperature         |    298.1500 |    K |\n",
       "| Pressure            |      1.0000 |  bar |\n",
       "| Charge:             | -4.5551e-16 |  mol |\n",
       "| Element Amount:     |             |      |\n",
       "| :: H                |  1.1102e+02 |  mol |\n",
       "| :: O                |  5.5508e+01 |  mol |\n",
       "| :: Na               |  5.0732e-01 |  mol |\n",
       "| :: S                |  4.0000e-16 |  mol |\n",
       "| :: Cl               |  5.4428e-01 |  mol |\n",
       "| :: Fe               |  1.8480e-02 |  mol |\n",
       "| Species Amount:     |             |      |\n",
       "| :: H2O@             |  5.5508e+01 |  mol |\n",
       "| :: H+               |  1.0539e-07 |  mol |\n",
       "| :: OH-              |  9.4252e-08 |  mol |\n",
       "| :: Na+              |  4.6948e-01 |  mol |\n",
       "| :: NaOH@            |  2.0794e-08 |  mol |\n",
       "| :: NaCl@            |  3.7844e-02 |  mol |\n",
       "| :: HCl@             |  9.6579e-09 |  mol |\n",
       "| :: Cl-              |  4.6948e-01 |  mol |\n",
       "| :: H2S@ :: H2S|-2|@ |  1.0000e-16 |  mol |\n",
       "| :: HS- :: HS|-2|-   |  1.0000e-16 |  mol |\n",
       "| :: HSO4-            |  1.0000e-16 |  mol |\n",
       "| :: SO4-2            |  1.0000e-16 |  mol |\n",
       "| :: FeCl2@           |  1.8480e-02 |  mol |\n",
       "+---------------------+-------------+------+"
      ]
     },
     "execution_count": 100,
     "metadata": {},
     "output_type": "execute_result"
    }
   ],
   "source": [
    "solver = rkt.EquilibriumSolver(specs)\n",
    "conditions = rkt.EquilibriumConditions(specs)\n",
    "conditions.temperature(25, \"C\")\n",
    "conditions.pressure(1, \"bar\")\n",
    "conditions.set(\"Fe concentration\", 1000) # [ppm]\n",
    "conditions.set(\"salinity\", 3) # [wt %]\n",
    "\n",
    "fluid = rkt.ChemicalState(system)\n",
    "fluid.add(\"H2O@\", 1, \"kg\")\n",
    "# fluid.add(\"NaCl@\", 10, \"mol\")\n",
    "\n",
    "result = solver.solve(fluid, conditions)\n",
    "outcome = result.optima.succeeded\n",
    "print(f\"converged: {outcome}\")\n",
    "fluid\n"
   ]
  },
  {
   "cell_type": "code",
   "execution_count": 62,
   "metadata": {},
   "outputs": [],
   "source": [
    "fluid.add(\"FeCl2@\", 100, \"mol\")"
   ]
  },
  {
   "cell_type": "code",
   "execution_count": 63,
   "metadata": {},
   "outputs": [
    {
     "data": {
      "text/plain": [
       "autodiff.real(1.03564e-10, 0)"
      ]
     },
     "execution_count": 63,
     "metadata": {},
     "output_type": "execute_result"
    }
   ],
   "source": [
    "get_element_concentration(rkt.ChemicalProps(fluid), \"Fe\")\n",
    "        "
   ]
  },
  {
   "cell_type": "code",
   "execution_count": null,
   "metadata": {},
   "outputs": [],
   "source": []
  },
  {
   "cell_type": "code",
   "execution_count": 190,
   "metadata": {},
   "outputs": [
    {
     "data": {
      "text/plain": [
       "+--------------------------+-------------+------+\n",
       "| Property                 |       Value | Unit |\n",
       "+--------------------------+-------------+------+\n",
       "| Temperature              |    298.1500 |    K |\n",
       "| Pressure                 |      1.0000 |  bar |\n",
       "| Charge:                  | -4.0000e-16 |  mol |\n",
       "| Element Amount:          |             |      |\n",
       "| :: H                     |  1.0000e-15 |  mol |\n",
       "| :: C                     |  1.0000e+00 |  mol |\n",
       "| :: O                     |  1.1000e-15 |  mol |\n",
       "| :: Na                    |  3.0000e-16 |  mol |\n",
       "| :: S                     |  6.0000e-16 |  mol |\n",
       "| :: Cl                    |  5.0000e-16 |  mol |\n",
       "| :: Fe                    |  2.0000e-16 |  mol |\n",
       "| Species Amount:          |             |      |\n",
       "| :: H2O@                  |  1.0000e-16 |  mol |\n",
       "| :: H+                    |  1.0000e-16 |  mol |\n",
       "| :: OH-                   |  1.0000e-16 |  mol |\n",
       "| :: Na+                   |  1.0000e-16 |  mol |\n",
       "| :: NaOH@                 |  1.0000e-16 |  mol |\n",
       "| :: NaCl@                 |  1.0000e-16 |  mol |\n",
       "| :: HCl@                  |  1.0000e-16 |  mol |\n",
       "| :: Cl-                   |  1.0000e-16 |  mol |\n",
       "| :: H2S@ :: H2S|-2|@      |  1.0000e-16 |  mol |\n",
       "| :: HS- :: HS|-2|-        |  1.0000e-16 |  mol |\n",
       "| :: HSO4-                 |  1.0000e-16 |  mol |\n",
       "| :: SO4-2                 |  1.0000e-16 |  mol |\n",
       "| :: FeCl2@                |  1.0000e-16 |  mol |\n",
       "| :: Pyrite :: FeS|0|S|-2| |  1.0000e-16 |  mol |\n",
       "| :: Graphite :: C|0|      |  1.0000e+00 |  mol |\n",
       "+--------------------------+-------------+------+"
      ]
     },
     "execution_count": 190,
     "metadata": {},
     "output_type": "execute_result"
    }
   ],
   "source": [
    "reductant = rkt.ChemicalState(system)\n",
    "reductant.add(\"Graphite\", 1, \"mol\")\n",
    "reductant"
   ]
  },
  {
   "cell_type": "code",
   "execution_count": 53,
   "metadata": {},
   "outputs": [],
   "source": [
    "metals = [\"Co\", \"Cu\", \"Ag\", \"Zn\", \"Pb\", \"Fe\", \"Ni\", \"Au\"]\n",
    "other_elements = [\"H\", \"O\", \"Na\", \"Cl\", \"S\"]\n",
    "system_elements = metals + other_elements"
   ]
  },
  {
   "cell_type": "code",
   "execution_count": 83,
   "metadata": {},
   "outputs": [],
   "source": [
    "def get_minerals_w_elements(db, elements, exclusive=True): \n",
    "    minerals = []\n",
    "    for species in db.species(): \n",
    "        if species.aggregateState().name == \"CrystallineSolid\": \n",
    "            species_elements = species.elements().symbols()\n",
    "            if exclusive==True: \n",
    "                if all(element in elements for element in species_elements): \n",
    "                    minerals.append(species.name())\n",
    "            else: \n",
    "                if any(element in elements for element in species_elements): \n",
    "                    minerals.append(species.name())\n",
    "\n",
    "\n",
    "    return minerals"
   ]
  },
  {
   "cell_type": "code",
   "execution_count": 84,
   "metadata": {},
   "outputs": [
    {
     "name": "stdout",
     "output_type": "stream",
     "text": [
      "['Disodium monoxid', 'Halite', 'Thenardite']\n",
      "['Chalcocite', 'Chalcocyanite', 'Covellite', 'Cu', 'Cuprite', 'Disodium monoxid', 'Halite', 'Tenorite', 'Thenardite']\n",
      "['Acanthite', 'Ag', 'Chlorargyrite', 'Disodium monoxid', 'Halite', 'Thenardite']\n",
      "['Disodium monoxid', 'Halite', 'Sphalerite', 'Thenardite', 'Wurtzite', 'Zincite', 'Zinkosite']\n",
      "['Anglesite', 'Cotunnite', 'Disodium monoxid', 'Galena', 'Halite', 'Litharge', 'Minium', 'Plattnerite', 'Thenardite']\n",
      "['Disodium monoxid', 'Fe(OH)3', 'Ferric sulfate', 'Ferrous oxide', 'Goethite', 'Halite', 'Hematite', 'Lawrencite', 'Magnetite', 'Marcasite', 'Molysite', 'Pyrite', 'Pyrrhotite', 'Thenardite', 'Troilite', 'Wustite']\n",
      "['Disodium monoxid', 'Halite', 'Thenardite']\n",
      "['Au', 'Disodium monoxid', 'Halite', 'Thenardite']\n"
     ]
    }
   ],
   "source": [
    "systems = {}\n",
    "for metal in metals: \n",
    "    elements = [metal] + other_elements\n",
    "\n",
    "    # add minerals\n",
    "    minerals = get_minerals_w_elements(db, elements)\n",
    "\n",
    "    if minerals:\n",
    "        mineral_phases = rkt.MineralPhases(minerals)\n",
    "\n",
    "        # add aqueous phase\n",
    "        aqueous_phase = rkt.AqueousPhase(rkt.speciate(list(set(other_elements + mineral_phases.elements()))))\n",
    "        print(minerals)"
   ]
  },
  {
   "cell_type": "code",
   "execution_count": 24,
   "metadata": {},
   "outputs": [
    {
     "ename": "NameError",
     "evalue": "name 'Chlorargyrite' is not defined",
     "output_type": "error",
     "traceback": [
      "\u001b[0;31m---------------------------------------------------------------------------\u001b[0m",
      "\u001b[0;31mNameError\u001b[0m                                 Traceback (most recent call last)",
      "\u001b[1;32m/Users/robertcollar/Documents/projects/sed-hosted-Cu-Co-deposit-thermodynamic-modelling/notebooks/solubility_workshop_sandbox.ipynb Cell 8'\u001b[0m in \u001b[0;36m<cell line: 1>\u001b[0;34m()\u001b[0m\n\u001b[1;32m      <a href='vscode-notebook-cell:/Users/robertcollar/Documents/projects/sed-hosted-Cu-Co-deposit-thermodynamic-modelling/notebooks/solubility_workshop_sandbox.ipynb#ch0000021?line=0'>1</a>\u001b[0m mineral_phases \u001b[39m=\u001b[39m [\u001b[39m\"\u001b[39m\u001b[39mAcanthite\u001b[39m\u001b[39m\"\u001b[39m, \u001b[39m\"\u001b[39m\u001b[39mAcanthite\u001b[39m\u001b[39m\"\u001b[39m, \u001b[39m\"\u001b[39m\u001b[39mAg\u001b[39m\u001b[39m\"\u001b[39m, \n\u001b[0;32m----> <a href='vscode-notebook-cell:/Users/robertcollar/Documents/projects/sed-hosted-Cu-Co-deposit-thermodynamic-modelling/notebooks/solubility_workshop_sandbox.ipynb#ch0000021?line=1'>2</a>\u001b[0m Chlorargyrite]\n\u001b[1;32m      <a href='vscode-notebook-cell:/Users/robertcollar/Documents/projects/sed-hosted-Cu-Co-deposit-thermodynamic-modelling/notebooks/solubility_workshop_sandbox.ipynb#ch0000021?line=2'>3</a>\u001b[0m aqueous_phase \u001b[39m=\u001b[39m rkt\u001b[39m.\u001b[39mAqueousPhase(rkt\u001b[39m.\u001b[39mspeciate(\u001b[39m\"\u001b[39m\u001b[39mH O Na Cl Co S\u001b[39m\u001b[39m\"\u001b[39m))\n\u001b[1;32m      <a href='vscode-notebook-cell:/Users/robertcollar/Documents/projects/sed-hosted-Cu-Co-deposit-thermodynamic-modelling/notebooks/solubility_workshop_sandbox.ipynb#ch0000021?line=3'>4</a>\u001b[0m mineral_phases \u001b[39m=\u001b[39m rkt\u001b[39m.\u001b[39mMineralPhases([\u001b[39m\"\u001b[39m\u001b[39mLinnaeite\u001b[39m\u001b[39m\"\u001b[39m, \u001b[39m\"\u001b[39m\u001b[39mCattierite\u001b[39m\u001b[39m\"\u001b[39m, \u001b[39m\"\u001b[39m\u001b[39mCo-pentlandite\u001b[39m\u001b[39m\"\u001b[39m, \u001b[39m\"\u001b[39m\u001b[39mCoO(s)\u001b[39m\u001b[39m\"\u001b[39m, \u001b[39m\"\u001b[39m\u001b[39mCo3O4(s)\u001b[39m\u001b[39m\"\u001b[39m, \u001b[39m\"\u001b[39m\u001b[39mCo(s)\u001b[39m\u001b[39m\"\u001b[39m])\n",
      "\u001b[0;31mNameError\u001b[0m: name 'Chlorargyrite' is not defined"
     ]
    }
   ],
   "source": [
    "mineral_phases = [\"Acanthite\", \"Ag\", \"Chlorargyrite\", \"Bornite\", \"Chalcocite\", \"Chalcocyanite\", \"Chalcopyrite\", \"Covellite\", \"Cu\", \"Cuprite\", \"Tenorite\", \"Sphalerite\", \"Wurtzite\"]\n",
    "aqueous_phase = rkt.AqueousPhase(rkt.speciate(\"H O Na Cl Co S\"))\n",
    "mineral_phases = rkt.MineralPhases([\"Linnaeite\", \"Cattierite\", \"Co-pentlandite\", \"CoO(s)\", \"Co3O4(s)\", \"Co(s)\"])\n",
    "\n",
    "phases = rkt.Phases(db)\n",
    "\n",
    "phases.add(aqueous_phase)\n",
    "phases.add(mineral_phases)\n",
    "\n",
    "system = rkt.ChemicalSystem(phases)"
   ]
  },
  {
   "cell_type": "code",
   "execution_count": 25,
   "metadata": {},
   "outputs": [
    {
     "name": "stdout",
     "output_type": "stream",
     "text": [
      "Franklinite\n",
      "Smithsonite\n",
      "Sphalerite\n",
      "Wurtzite\n",
      "Zinc titanium sp\n",
      "Zincite\n",
      "Zinkosite\n"
     ]
    }
   ],
   "source": [
    "for species in db.species(): \n",
    "    if \"Zn\" in species.elements().symbols() and species.aggregateState().name == \"CrystallineSolid\": \n",
    "        print(species.name())"
   ]
  },
  {
   "cell_type": "markdown",
   "metadata": {},
   "source": [
    "Let's create a reaction that describes the solubility of galena ($PbS$) in an aqueous fluid: \n",
    "$$\n",
    "PbS_{(s)} + 2Cl^-_{(aq)} + 2O_{2(g)} \\leftrightarrow PbCl_{2(aq)} + SO^{-2}_{4(aq)}\n",
    "$$"
   ]
  },
  {
   "cell_type": "code",
   "execution_count": 10,
   "metadata": {},
   "outputs": [],
   "source": [
    "rxn = db.reaction(\"Galena + 2*Cl- + 2*O2@ = PbCl2@ + SO4-2\")"
   ]
  },
  {
   "cell_type": "markdown",
   "metadata": {},
   "source": [
    "Next, we'll calculate and plot the log of the equillibrium constant, $K$, for a range of temperatures at saturated water vapor pressure. \n",
    "Recall that the equilibrium constant is defined as follows: \n",
    "$$\n",
    "K = \\prod_i a_i\n",
    "$$ \n",
    "where $i$ indicates the ith substance in the reaction, and $a$ is that substance's activity (i.e., its \"thermodynamic concentration\"). "
   ]
  },
  {
   "cell_type": "code",
   "execution_count": 33,
   "metadata": {},
   "outputs": [],
   "source": [
    "temperature = np.linspace(100, 300) + 273.15 #[K]\n",
    "pressure = len(temperature)*[500*1e5] # [Pa]\n",
    "\n",
    "# pressure = [rkt.waterSaturationPressureWagnerPruss(T) for T in temperature] #[Pa]"
   ]
  },
  {
   "cell_type": "code",
   "execution_count": 34,
   "metadata": {},
   "outputs": [],
   "source": [
    "logK = []\n",
    "for T,P in zip(temperature, pressure): \n",
    "    logK.append(rxn.props(T, P).lgK[0])"
   ]
  },
  {
   "cell_type": "code",
   "execution_count": 35,
   "metadata": {},
   "outputs": [
    {
     "data": {
      "image/png": "[encoded data removed]",
      "text/plain": [
       "<Figure size 432x288 with 1 Axes>"
      ]
     },
     "metadata": {
      "needs_background": "light"
     },
     "output_type": "display_data"
    }
   ],
   "source": [
    "plt.plot(temperature-273.15, logK)\n",
    "plt.xlabel(\"Temperature (°C)\")\n",
    "plt.ylabel(\"logK\");"
   ]
  },
  {
   "cell_type": "markdown",
   "metadata": {},
   "source": [
    "We can now plot the reaction in $log(f_{O_2})-pH$ space, where these two parameters are master control variables in many geochemical environments. To do this, we first take the $log_{10}$ of the equilibrium constant expression: \n",
    "$$\n",
    "logK = log(a_{PbCl_{2(aq)}}) + log(a_{SO^{-2}_{4(aq)}}) - 2log(a_{O_{2(g)}}) - 2log(a_{Cl^-_{(aq)}}) - log(a_{PbS_{(s)}})\n",
    "$$\n",
    "If we assume that $PbS_{(s)}$ is pure (i.e., the activity of the $PbS$ component in the phase galena is 1), the last term becomes 0 and the expression simplifies to: \n",
    "$$\n",
    "logK = log(a_{PbCl_{2(aq)}}) + log(a_{SO^{-2}_{4(aq)}}) - 2log(a_{O_{2(g)}}) - 2log(a_{Cl^-_{(aq)}})\n",
    "$$\n",
    "\n",
    "Rearranging this, we get: \n",
    "$$\n",
    "log(a_{O_{2(g)}}) = log(a_{Cl^-_{(aq)}}) - 0.5log(a_{PbCl_{2(aq)}}) - 0.5log(a_{SO^{-2}_{4(aq)}}) - logK\n",
    "\n",
    "% logK = log(a_{PbCl_{2(aq)}}) + log(a_{SO^{-2}_{4(aq)}}) - 2log(a_{O_{2(g)}}) - 2log(a_{Cl^-_{(aq)}}) - log(a_{PbS_{(s)}})\n",
    "$$\n",
    "\n",
    "Using the calculated equilibrium constant, and by specifying activities for $Cl^-_{(aq)}$ and $PbCl_{2(aq)}$, we can plot this equation in $log(f_{O_2})-pH$ space. "
   ]
  },
  {
   "cell_type": "code",
   "execution_count": null,
   "metadata": {},
   "outputs": [],
   "source": [
    "aCl = 1"
   ]
  },
  {
   "cell_type": "markdown",
   "metadata": {},
   "source": [
    "Let's create a reaction that describes the solubility of galena ($PbS$) in an aqueous fluid: \n",
    "$$\n",
    "PbS_{(s)} + 2Cl^-_{(aq)} + 2O_{2(g)} \\leftrightarrow PbCl_{2(aq)} + SO^{-2}_{4(aq)}\n",
    "$$"
   ]
  },
  {
   "cell_type": "code",
   "execution_count": 8,
   "metadata": {},
   "outputs": [],
   "source": [
    "rxn = db.reaction(\"Galena + 2*Cl- + 2*O2(g) = PbCl2@ + SO4-2\")"
   ]
  },
  {
   "cell_type": "code",
   "execution_count": 9,
   "metadata": {},
   "outputs": [],
   "source": [
    "rxn = db.reaction(\"Galena + 2*H+ = Pb+2 + H2S@\")\n",
    "logK_2 = []\n",
    "\n",
    "pressure = len(temperature)*[500*1e5]\n",
    "for T,P in zip(temperature, pressure): \n",
    "    logK_2.append(rxn.props(T, P).lgK[0])\n"
   ]
  },
  {
   "cell_type": "code",
   "execution_count": 10,
   "metadata": {},
   "outputs": [
    {
     "data": {
      "image/png": "[encoded data removed]",
      "text/plain": [
       "<Figure size 432x288 with 1 Axes>"
      ]
     },
     "metadata": {
      "needs_background": "light"
     },
     "output_type": "display_data"
    }
   ],
   "source": [
    "plt.plot(temperature-273.15, logK_2)\n",
    "plt.xlabel(\"Temperature (°C)\")\n",
    "plt.ylabel(\"logK\");"
   ]
  },
  {
   "cell_type": "code",
   "execution_count": 11,
   "metadata": {},
   "outputs": [],
   "source": [
    "rxn = db.reaction(\"Galena + 2*H+ + 2*Cl- = PbCl2@ + H2S@\")\n",
    "logK_2 = []\n",
    "\n",
    "pressure = len(temperature)*[500*1e5]\n",
    "for T,P in zip(temperature, pressure): \n",
    "    logK_2.append(rxn.props(T, P).lgK[0])"
   ]
  },
  {
   "cell_type": "code",
   "execution_count": 12,
   "metadata": {},
   "outputs": [
    {
     "data": {
      "image/png": "[encoded data removed]",
      "text/plain": [
       "<Figure size 432x288 with 1 Axes>"
      ]
     },
     "metadata": {
      "needs_background": "light"
     },
     "output_type": "display_data"
    }
   ],
   "source": [
    "plt.plot(temperature-273.15, logK_2)\n",
    "plt.xlabel(\"Temperature (°C)\")\n",
    "plt.ylabel(\"logK\");"
   ]
  }
 ],
 "metadata": {
  "interpreter": {
   "hash": "6e0a80d6f337eb1f1c2e8bae1c47fb2deeecc79a6b1a78d834e2ef444d81a8c2"
  },
  "kernelspec": {
   "display_name": "Python 3.9.12 64-bit ('sed-hosted-Cu-Co-deposit-thermodynamic-modelling': conda)",
   "name": "python3"
  },
  "language_info": {
   "codemirror_mode": {
    "name": "ipython",
    "version": 3
   },
   "file_extension": ".py",
   "mimetype": "text/x-python",
   "name": "python",
   "nbconvert_exporter": "python",
   "pygments_lexer": "ipython3",
   "version": "3.9.12"
  },
  "orig_nbformat": 4
 },
 "nbformat": 4,
 "nbformat_minor": 2
}
